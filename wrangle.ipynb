{
 "cells": [
  {
   "cell_type": "markdown",
   "id": "6d39b818-9c52-4a22-b783-23a4d7a4646b",
   "metadata": {},
   "source": [
    "#### Imports"
   ]
  },
  {
   "cell_type": "code",
   "execution_count": 1,
   "id": "a93689c3-7dcd-48f4-a34a-1688c03bf321",
   "metadata": {},
   "outputs": [],
   "source": [
    "import os\n",
    "import pyspark\n",
    "from pyspark.sql import SparkSession\n",
    "from pyspark.sql.functions import *\n",
    "from pyspark.sql.types import StructType, StructField, StringType\n",
    "import pandas as pd\n",
    "from env import host, username, password"
   ]
  },
  {
   "cell_type": "markdown",
   "id": "79acfd7d-93fc-463a-ab87-2bd0fbaf06c1",
   "metadata": {},
   "source": [
    "# Exercises"
   ]
  },
  {
   "cell_type": "markdown",
   "id": "01d7ebd8-a698-45a9-a439-817dcc852d69",
   "metadata": {},
   "source": [
    "1. Read the case, department, and source data into their own spark dataframes.\n",
    "2. Let's see how writing to the local disk works in spark:\n",
    "    - Write the code necessary to store the source data in both csv and json format, store these as sources_csv and sources_json\n",
    "    - Inspect your folder structure. What do you notice?\n",
    "3. Inspect the data in your dataframes. Are the data types appropriate? Write the code necessary to cast the values to the appropriate types."
   ]
  },
  {
   "cell_type": "code",
   "execution_count": 2,
   "id": "3034be0f-ec97-4753-b1c0-38cf6bd3974f",
   "metadata": {},
   "outputs": [
    {
     "name": "stderr",
     "output_type": "stream",
     "text": [
      "Setting default log level to \"WARN\".\n",
      "To adjust logging level use sc.setLogLevel(newLevel). For SparkR, use setLogLevel(newLevel).\n",
      "23/07/06 10:23:10 WARN NativeCodeLoader: Unable to load native-hadoop library for your platform... using builtin-java classes where applicable\n"
     ]
    }
   ],
   "source": [
    "# Generate spark object to initialize a local Spark JVM process\n",
    "spark = SparkSession.builder.getOrCreate()"
   ]
  },
  {
   "cell_type": "code",
   "execution_count": 3,
   "id": "afbd06a6-6d29-4fab-871b-a7d8bb84d405",
   "metadata": {},
   "outputs": [],
   "source": [
    "def get_connection_url(db, user=username, host=host, password=password):\n",
    "    '''\n",
    "    This function uses my info from my env file to\n",
    "    create a connection url to access the Codeup db.\n",
    "    '''\n",
    "    return f'mysql+pymysql://{username}:{password}@{host}/{db}'"
   ]
  },
  {
   "cell_type": "code",
   "execution_count": 4,
   "id": "def04190-7e27-4883-8aca-4c763aa4c5d2",
   "metadata": {},
   "outputs": [],
   "source": [
    "url = get_connection_url(\"311_data\")"
   ]
  },
  {
   "cell_type": "markdown",
   "id": "45f4098c-bc45-4636-956c-ad3a257dfa17",
   "metadata": {},
   "source": [
    "---\n",
    "### Case"
   ]
  },
  {
   "cell_type": "code",
   "execution_count": 5,
   "id": "b985314e-48f2-42fe-9bdb-8bb97372ca7f",
   "metadata": {},
   "outputs": [
    {
     "name": "stderr",
     "output_type": "stream",
     "text": [
      "23/07/06 10:25:35 WARN TaskSetManager: Stage 0 contains a task of very large size (18868 KiB). The maximum recommended task size is 1000 KiB.\n",
      "23/07/06 10:25:40 WARN PythonRunner: Detected deadlock while completing task 0.0 in stage 0 (TID 0): Attempting to kill Python Worker\n",
      "                                                                                \r"
     ]
    },
    {
     "name": "stdout",
     "output_type": "stream",
     "text": [
      "+----------+----------------+----------------+------------+---------+-------------+-----------+----------------+--------------------+-----------+-----------+---------+--------------------+----------------+\n",
      "|   case_id|case_opened_date|case_closed_date|SLA_due_date|case_late|num_days_late|case_closed|   dept_division|service_request_type|   SLA_days|case_status|source_id|     request_address|council_district|\n",
      "+----------+----------------+----------------+------------+---------+-------------+-----------+----------------+--------------------+-----------+-----------+---------+--------------------+----------------+\n",
      "|1014127332|     1/1/18 0:42|    1/1/18 12:29|9/26/20 0:42|       NO| -998.5087616|        YES|Field Operations|        Stray Animal|      999.0|     Closed| svcCRMLS|2315  EL PASO ST,...|               5|\n",
      "|1014127333|     1/1/18 0:46|     1/3/18 8:11| 1/5/18 8:30|       NO| -2.012604167|        YES|     Storm Water|Removal Of Obstru...|4.322222222|     Closed| svcCRMSS|2215  GOLIAD RD, ...|               3|\n",
      "|1014127334|     1/1/18 0:48|     1/2/18 7:57| 1/5/18 8:30|       NO| -3.022337963|        YES|     Storm Water|Removal Of Obstru...|4.320729167|     Closed| svcCRMSS|102  PALFREY ST W...|               3|\n",
      "|1014127335|     1/1/18 1:29|     1/2/18 8:13|1/17/18 8:30|       NO| -15.01148148|        YES|Code Enforcement|Front Or Side Yar...|16.29188657|     Closed| svcCRMSS|114  LA GARDE ST,...|               3|\n",
      "+----------+----------------+----------------+------------+---------+-------------+-----------+----------------+--------------------+-----------+-----------+---------+--------------------+----------------+\n",
      "only showing top 4 rows\n",
      "\n"
     ]
    }
   ],
   "source": [
    "query = \"\"\"SELECT * FROM cases\"\"\"\n",
    "cases = pd.read_sql(query, url)\n",
    "cases = spark.createDataFrame(cases)\n",
    "cases.show(4)"
   ]
  },
  {
   "cell_type": "code",
   "execution_count": 6,
   "id": "25d66172-3ef6-40a8-b088-194af68d030c",
   "metadata": {},
   "outputs": [
    {
     "name": "stderr",
     "output_type": "stream",
     "text": [
      "23/07/06 10:25:45 WARN TaskSetManager: Stage 1 contains a task of very large size (18868 KiB). The maximum recommended task size is 1000 KiB.\n",
      "[Stage 1:>                                                          (0 + 1) / 1]\r"
     ]
    },
    {
     "name": "stdout",
     "output_type": "stream",
     "text": [
      "-RECORD 0------------------------------------\n",
      " case_id              | 1014127332           \n",
      " case_opened_date     | 1/1/18 0:42          \n",
      " case_closed_date     | 1/1/18 12:29         \n",
      " SLA_due_date         | 9/26/20 0:42         \n",
      " case_late            | NO                   \n",
      " num_days_late        | -998.5087616         \n",
      " case_closed          | YES                  \n",
      " dept_division        | Field Operations     \n",
      " service_request_type | Stray Animal         \n",
      " SLA_days             | 999.0                \n",
      " case_status          | Closed               \n",
      " source_id            | svcCRMLS             \n",
      " request_address      | 2315  EL PASO ST,... \n",
      " council_district     | 5                    \n",
      "-RECORD 1------------------------------------\n",
      " case_id              | 1014127333           \n",
      " case_opened_date     | 1/1/18 0:46          \n",
      " case_closed_date     | 1/3/18 8:11          \n",
      " SLA_due_date         | 1/5/18 8:30          \n",
      " case_late            | NO                   \n",
      " num_days_late        | -2.012604167         \n",
      " case_closed          | YES                  \n",
      " dept_division        | Storm Water          \n",
      " service_request_type | Removal Of Obstru... \n",
      " SLA_days             | 4.322222222          \n",
      " case_status          | Closed               \n",
      " source_id            | svcCRMSS             \n",
      " request_address      | 2215  GOLIAD RD, ... \n",
      " council_district     | 3                    \n",
      "only showing top 2 rows\n",
      "\n"
     ]
    },
    {
     "name": "stderr",
     "output_type": "stream",
     "text": [
      "23/07/06 10:25:49 WARN PythonRunner: Detected deadlock while completing task 0.0 in stage 1 (TID 1): Attempting to kill Python Worker\n",
      "                                                                                \r"
     ]
    }
   ],
   "source": [
    "cases.show(2, vertical=True)"
   ]
  },
  {
   "cell_type": "code",
   "execution_count": 14,
   "id": "60f90cbe-600b-41c8-9e15-2d3fc1f7ba66",
   "metadata": {},
   "outputs": [
    {
     "name": "stderr",
     "output_type": "stream",
     "text": [
      "23/07/05 13:38:41 WARN TaskSetManager: Stage 5 contains a task of very large size (18868 KiB). The maximum recommended task size is 1000 KiB.\n",
      "23/07/05 13:38:48 WARN TaskSetManager: Stage 6 contains a task of very large size (18868 KiB). The maximum recommended task size is 1000 KiB.\n",
      "                                                                                \r"
     ]
    }
   ],
   "source": [
    "# case.write.json('case_json', mode='overwrite')\n",
    "# case.write.csv('case_csv', mode='overwrite')"
   ]
  },
  {
   "cell_type": "code",
   "execution_count": 7,
   "id": "ab46ecf6-d39b-4644-9254-98223ed37811",
   "metadata": {},
   "outputs": [
    {
     "data": {
      "text/plain": [
       "StructType([StructField('case_id', LongType(), True), StructField('case_opened_date', StringType(), True), StructField('case_closed_date', StringType(), True), StructField('SLA_due_date', StringType(), True), StructField('case_late', StringType(), True), StructField('num_days_late', DoubleType(), True), StructField('case_closed', StringType(), True), StructField('dept_division', StringType(), True), StructField('service_request_type', StringType(), True), StructField('SLA_days', DoubleType(), True), StructField('case_status', StringType(), True), StructField('source_id', StringType(), True), StructField('request_address', StringType(), True), StructField('council_district', LongType(), True)])"
      ]
     },
     "execution_count": 7,
     "metadata": {},
     "output_type": "execute_result"
    }
   ],
   "source": [
    "cases.schema"
   ]
  },
  {
   "cell_type": "code",
   "execution_count": 8,
   "id": "af96139a-86a4-4937-bd78-7fb0e5fb65e5",
   "metadata": {},
   "outputs": [
    {
     "name": "stderr",
     "output_type": "stream",
     "text": [
      "23/07/06 10:26:09 WARN TaskSetManager: Stage 2 contains a task of very large size (18868 KiB). The maximum recommended task size is 1000 KiB.\n",
      "[Stage 2:>                                                          (0 + 1) / 1]\r"
     ]
    },
    {
     "name": "stdout",
     "output_type": "stream",
     "text": [
      "-RECORD 0------------------------------------\n",
      " case_id              | 1014127332           \n",
      " case_opened_date     | 1/1/18 0:42          \n",
      " case_closed_date     | 1/1/18 12:29         \n",
      " case_due_date        | 9/26/20 0:42         \n",
      " case_late            | NO                   \n",
      " num_days_late        | -998.5087616         \n",
      " case_closed          | YES                  \n",
      " dept_division        | Field Operations     \n",
      " service_request_type | Stray Animal         \n",
      " SLA_days             | 999.0                \n",
      " case_status          | Closed               \n",
      " source_id            | svcCRMLS             \n",
      " request_address      | 2315  EL PASO ST,... \n",
      " council_district     | 5                    \n",
      "-RECORD 1------------------------------------\n",
      " case_id              | 1014127333           \n",
      " case_opened_date     | 1/1/18 0:46          \n",
      " case_closed_date     | 1/3/18 8:11          \n",
      " case_due_date        | 1/5/18 8:30          \n",
      " case_late            | NO                   \n",
      " num_days_late        | -2.012604167         \n",
      " case_closed          | YES                  \n",
      " dept_division        | Storm Water          \n",
      " service_request_type | Removal Of Obstru... \n",
      " SLA_days             | 4.322222222          \n",
      " case_status          | Closed               \n",
      " source_id            | svcCRMSS             \n",
      " request_address      | 2215  GOLIAD RD, ... \n",
      " council_district     | 3                    \n",
      "only showing top 2 rows\n",
      "\n"
     ]
    },
    {
     "name": "stderr",
     "output_type": "stream",
     "text": [
      "23/07/06 10:26:13 WARN PythonRunner: Detected deadlock while completing task 0.0 in stage 2 (TID 2): Attempting to kill Python Worker\n",
      "                                                                                \r"
     ]
    }
   ],
   "source": [
    "cases = cases.withColumnRenamed('SLA_due_date', 'case_due_date')\n",
    "cases.show(2, vertical=True)"
   ]
  },
  {
   "cell_type": "code",
   "execution_count": 9,
   "id": "1d4d97d8-d06a-465f-8fb5-66be6138c2ae",
   "metadata": {},
   "outputs": [
    {
     "name": "stderr",
     "output_type": "stream",
     "text": [
      "23/07/06 10:26:22 WARN TaskSetManager: Stage 3 contains a task of very large size (18868 KiB). The maximum recommended task size is 1000 KiB.\n",
      "[Stage 3:>                                                          (0 + 1) / 1]\r"
     ]
    },
    {
     "name": "stdout",
     "output_type": "stream",
     "text": [
      "-RECORD 0------------------------------------\n",
      " case_id              | 1014127332           \n",
      " case_opened_date     | 1/1/18 0:42          \n",
      " case_closed_date     | 1/1/18 12:29         \n",
      " case_due_date        | 9/26/20 0:42         \n",
      " case_late            | NO                   \n",
      " num_days_late        | -998.5087616         \n",
      " case_closed          | YES                  \n",
      " dept_division        | Field Operations     \n",
      " service_request_type | Stray Animal         \n",
      " case_days            | 999.0                \n",
      " case_status          | Closed               \n",
      " source_id            | svcCRMLS             \n",
      " request_address      | 2315  EL PASO ST,... \n",
      " council_district     | 5                    \n",
      "-RECORD 1------------------------------------\n",
      " case_id              | 1014127333           \n",
      " case_opened_date     | 1/1/18 0:46          \n",
      " case_closed_date     | 1/3/18 8:11          \n",
      " case_due_date        | 1/5/18 8:30          \n",
      " case_late            | NO                   \n",
      " num_days_late        | -2.012604167         \n",
      " case_closed          | YES                  \n",
      " dept_division        | Storm Water          \n",
      " service_request_type | Removal Of Obstru... \n",
      " case_days            | 4.322222222          \n",
      " case_status          | Closed               \n",
      " source_id            | svcCRMSS             \n",
      " request_address      | 2215  GOLIAD RD, ... \n",
      " council_district     | 3                    \n",
      "only showing top 2 rows\n",
      "\n"
     ]
    },
    {
     "name": "stderr",
     "output_type": "stream",
     "text": [
      "23/07/06 10:26:26 WARN PythonRunner: Detected deadlock while completing task 0.0 in stage 3 (TID 3): Attempting to kill Python Worker\n",
      "                                                                                \r"
     ]
    }
   ],
   "source": [
    "cases = cases.withColumnRenamed('SLA_days', 'case_days')\n",
    "cases.show(2, vertical=True)"
   ]
  },
  {
   "cell_type": "code",
   "execution_count": 10,
   "id": "d059537f-edc2-40f2-852f-459518f052bf",
   "metadata": {},
   "outputs": [
    {
     "name": "stderr",
     "output_type": "stream",
     "text": [
      "23/07/06 10:26:36 WARN TaskSetManager: Stage 4 contains a task of very large size (18868 KiB). The maximum recommended task size is 1000 KiB.\n",
      "[Stage 4:>                                                          (0 + 8) / 8]\r"
     ]
    },
    {
     "name": "stdout",
     "output_type": "stream",
     "text": [
      "+-----------+---------+------+\n",
      "|case_closed|case_late| count|\n",
      "+-----------+---------+------+\n",
      "|         NO|      YES|  6525|\n",
      "|        YES|      YES| 87978|\n",
      "|         NO|       NO| 11585|\n",
      "|        YES|       NO|735616|\n",
      "+-----------+---------+------+\n",
      "\n"
     ]
    },
    {
     "name": "stderr",
     "output_type": "stream",
     "text": [
      "                                                                                \r"
     ]
    }
   ],
   "source": [
    "# demonstrating we only have yes/no in each field\n",
    "cases.groupby('case_closed', 'case_late').count().show()"
   ]
  },
  {
   "cell_type": "code",
   "execution_count": 11,
   "id": "efd9e0da-a3bb-40a8-be55-a7330368c884",
   "metadata": {},
   "outputs": [
    {
     "name": "stderr",
     "output_type": "stream",
     "text": [
      "23/07/06 10:26:49 WARN TaskSetManager: Stage 7 contains a task of very large size (18868 KiB). The maximum recommended task size is 1000 KiB.\n",
      "[Stage 7:>                                                          (0 + 1) / 1]\r"
     ]
    },
    {
     "name": "stdout",
     "output_type": "stream",
     "text": [
      "+-----------+---------+\n",
      "|case_closed|case_late|\n",
      "+-----------+---------+\n",
      "|       true|    false|\n",
      "|       true|    false|\n",
      "|       true|    false|\n",
      "|       true|    false|\n",
      "|       true|     true|\n",
      "|       true|    false|\n",
      "|       true|    false|\n",
      "|       true|    false|\n",
      "|       true|    false|\n",
      "|       true|    false|\n",
      "|       true|    false|\n",
      "|       true|    false|\n",
      "|       true|    false|\n",
      "|       true|    false|\n",
      "|       true|    false|\n",
      "|       true|    false|\n",
      "|       true|    false|\n",
      "|       true|    false|\n",
      "|       true|    false|\n",
      "|       true|    false|\n",
      "+-----------+---------+\n",
      "only showing top 20 rows\n",
      "\n"
     ]
    },
    {
     "name": "stderr",
     "output_type": "stream",
     "text": [
      "23/07/06 10:26:53 WARN PythonRunner: Detected deadlock while completing task 0.0 in stage 7 (TID 13): Attempting to kill Python Worker\n",
      "                                                                                \r"
     ]
    }
   ],
   "source": [
    "#Let's create two new boolean columns\n",
    "cases = cases.withColumn(\"case_closed\", expr('case_closed == \"YES\"')).withColumn(\n",
    "        \"case_late\", expr('case_late == \"YES\"'))\n",
    "\n",
    "#Select just the two columns\n",
    "cases.select(\"case_closed\", \"case_late\").show()"
   ]
  },
  {
   "cell_type": "code",
   "execution_count": 12,
   "id": "695d7b98-2abe-4d40-b48c-f22580d2f6f5",
   "metadata": {},
   "outputs": [
    {
     "name": "stderr",
     "output_type": "stream",
     "text": [
      "23/07/06 10:26:59 WARN TaskSetManager: Stage 8 contains a task of very large size (18868 KiB). The maximum recommended task size is 1000 KiB.\n",
      "[Stage 8:===================================================>       (7 + 1) / 8]\r"
     ]
    },
    {
     "name": "stdout",
     "output_type": "stream",
     "text": [
      "+----------------+------+\n",
      "|council_district| count|\n",
      "+----------------+------+\n",
      "|               0|  3830|\n",
      "|               7| 72445|\n",
      "|               6| 74095|\n",
      "|               9| 40916|\n",
      "|               5|114609|\n",
      "|               1|119309|\n",
      "|              10| 62926|\n",
      "|               3|102706|\n",
      "|               8| 42345|\n",
      "|               2|114745|\n",
      "|               4| 93778|\n",
      "+----------------+------+\n",
      "\n"
     ]
    },
    {
     "name": "stderr",
     "output_type": "stream",
     "text": [
      "                                                                                \r"
     ]
    }
   ],
   "source": [
    "cases.groupBy('council_district').count().show()"
   ]
  },
  {
   "cell_type": "code",
   "execution_count": 13,
   "id": "6924044e-3930-48cb-9a91-fe90660e5bf6",
   "metadata": {},
   "outputs": [],
   "source": [
    "cases = cases.withColumn('council_district', col('council_district').cast('string'))"
   ]
  },
  {
   "cell_type": "code",
   "execution_count": 14,
   "id": "58a9d46a-a283-4b7f-8fee-74c600d08a9c",
   "metadata": {},
   "outputs": [
    {
     "name": "stderr",
     "output_type": "stream",
     "text": [
      "23/07/06 10:27:16 WARN TaskSetManager: Stage 11 contains a task of very large size (18868 KiB). The maximum recommended task size is 1000 KiB.\n",
      "[Stage 11:>                                                         (0 + 1) / 1]\r"
     ]
    },
    {
     "name": "stdout",
     "output_type": "stream",
     "text": [
      "+----------------+----------------+-------------+\n",
      "|case_opened_date|case_closed_date|case_due_date|\n",
      "+----------------+----------------+-------------+\n",
      "|     1/1/18 0:42|    1/1/18 12:29| 9/26/20 0:42|\n",
      "|     1/1/18 0:46|     1/3/18 8:11|  1/5/18 8:30|\n",
      "|     1/1/18 0:48|     1/2/18 7:57|  1/5/18 8:30|\n",
      "|     1/1/18 1:29|     1/2/18 8:13| 1/17/18 8:30|\n",
      "|     1/1/18 1:34|    1/1/18 13:29|  1/1/18 4:34|\n",
      "+----------------+----------------+-------------+\n",
      "only showing top 5 rows\n",
      "\n"
     ]
    },
    {
     "name": "stderr",
     "output_type": "stream",
     "text": [
      "23/07/06 10:27:20 WARN PythonRunner: Detected deadlock while completing task 0.0 in stage 11 (TID 23): Attempting to kill Python Worker\n",
      "                                                                                \r"
     ]
    }
   ],
   "source": [
    "#Before\n",
    "cases.select('case_opened_date', 'case_closed_date', 'case_due_date').show(5)"
   ]
  },
  {
   "cell_type": "code",
   "execution_count": 15,
   "id": "3c902333-c5df-4c22-b272-fa035e68c8e0",
   "metadata": {},
   "outputs": [
    {
     "name": "stderr",
     "output_type": "stream",
     "text": [
      "23/07/06 10:27:30 WARN TaskSetManager: Stage 12 contains a task of very large size (18868 KiB). The maximum recommended task size is 1000 KiB.\n",
      "[Stage 12:>                                                         (0 + 1) / 1]\r"
     ]
    },
    {
     "name": "stdout",
     "output_type": "stream",
     "text": [
      "+-------------------+-------------------+-------------------+\n",
      "|   case_opened_date|   case_closed_date|      case_due_date|\n",
      "+-------------------+-------------------+-------------------+\n",
      "|2018-01-01 00:42:00|2018-01-01 12:29:00|2020-09-26 00:42:00|\n",
      "|2018-01-01 00:46:00|2018-01-03 08:11:00|2018-01-05 08:30:00|\n",
      "|2018-01-01 00:48:00|2018-01-02 07:57:00|2018-01-05 08:30:00|\n",
      "|2018-01-01 01:29:00|2018-01-02 08:13:00|2018-01-17 08:30:00|\n",
      "|2018-01-01 01:34:00|2018-01-01 13:29:00|2018-01-01 04:34:00|\n",
      "+-------------------+-------------------+-------------------+\n",
      "only showing top 5 rows\n",
      "\n"
     ]
    },
    {
     "name": "stderr",
     "output_type": "stream",
     "text": [
      "23/07/06 10:27:34 WARN PythonRunner: Detected deadlock while completing task 0.0 in stage 12 (TID 24): Attempting to kill Python Worker\n",
      "                                                                                \r"
     ]
    }
   ],
   "source": [
    "#After\n",
    "\n",
    "fmt = \"M/d/yy H:mm\"\n",
    "\n",
    "cases = (\n",
    "    cases.withColumn(\"case_opened_date\", to_timestamp(\"case_opened_date\", fmt))\n",
    "    .withColumn(\"case_closed_date\", to_timestamp(\"case_closed_date\", fmt))\n",
    "    .withColumn(\"case_due_date\", to_timestamp(\"case_due_date\", fmt))\n",
    ")\n",
    "\n",
    "cases.select(\"case_opened_date\", \"case_closed_date\", \"case_due_date\").show(5)"
   ]
  },
  {
   "cell_type": "code",
   "execution_count": 17,
   "id": "3c41188e-297a-4a2b-9242-3c1d204c963d",
   "metadata": {},
   "outputs": [
    {
     "name": "stderr",
     "output_type": "stream",
     "text": [
      "23/07/06 10:27:53 WARN TaskSetManager: Stage 13 contains a task of very large size (18868 KiB). The maximum recommended task size is 1000 KiB.\n",
      "[Stage 13:>                                                         (0 + 1) / 1]\r"
     ]
    },
    {
     "name": "stdout",
     "output_type": "stream",
     "text": [
      "+-------------------------------------+\n",
      "|                      request_address|\n",
      "+-------------------------------------+\n",
      "| 2315  el paso st, san antonio, 78207|\n",
      "|  2215  goliad rd, san antonio, 78223|\n",
      "|102  palfrey st w, san antonio, 78223|\n",
      "| 114  la garde st, san antonio, 78223|\n",
      "|734  clearview dr, san antonio, 78228|\n",
      "+-------------------------------------+\n",
      "only showing top 5 rows\n",
      "\n"
     ]
    },
    {
     "name": "stderr",
     "output_type": "stream",
     "text": [
      "23/07/06 10:27:57 WARN PythonRunner: Detected deadlock while completing task 0.0 in stage 13 (TID 25): Attempting to kill Python Worker\n",
      "                                                                                \r"
     ]
    }
   ],
   "source": [
    "#After\n",
    "cases = cases.withColumn('request_address', trim(lower(cases.request_address)))\n",
    "\n",
    "cases.select(\"request_address\").show(5, 50)"
   ]
  },
  {
   "cell_type": "code",
   "execution_count": 18,
   "id": "3f49d40d-98f8-47bd-bdd0-002cadf8ea31",
   "metadata": {},
   "outputs": [
    {
     "name": "stderr",
     "output_type": "stream",
     "text": [
      "23/07/06 10:28:06 WARN TaskSetManager: Stage 14 contains a task of very large size (18868 KiB). The maximum recommended task size is 1000 KiB.\n",
      "[Stage 14:>                                                         (0 + 1) / 1]\r"
     ]
    },
    {
     "name": "stdout",
     "output_type": "stream",
     "text": [
      "+-------------+--------------------+\n",
      "|num_days_late|      num_weeks_late|\n",
      "+-------------+--------------------+\n",
      "| -998.5087616|        -142.6441088|\n",
      "| -2.012604167|        -0.287514881|\n",
      "| -3.022337963|-0.43176256614285713|\n",
      "| -15.01148148| -2.1444973542857144|\n",
      "|  0.372164352|0.053166335999999995|\n",
      "+-------------+--------------------+\n",
      "only showing top 5 rows\n",
      "\n"
     ]
    },
    {
     "name": "stderr",
     "output_type": "stream",
     "text": [
      "23/07/06 10:28:10 WARN PythonRunner: Detected deadlock while completing task 0.0 in stage 14 (TID 26): Attempting to kill Python Worker\n",
      "                                                                                \r"
     ]
    }
   ],
   "source": [
    "cases = cases.withColumn('num_weeks_late', expr('num_days_late / 7'))\n",
    "\n",
    "cases.select(\"num_days_late\", \"num_weeks_late\").show(5)"
   ]
  },
  {
   "cell_type": "code",
   "execution_count": 19,
   "id": "ee1973dd-0dc5-43d4-a09f-7ea856136169",
   "metadata": {},
   "outputs": [
    {
     "name": "stderr",
     "output_type": "stream",
     "text": [
      "23/07/06 10:28:25 WARN TaskSetManager: Stage 15 contains a task of very large size (18868 KiB). The maximum recommended task size is 1000 KiB.\n",
      "[Stage 15:>                                                         (0 + 1) / 1]\r"
     ]
    },
    {
     "name": "stdout",
     "output_type": "stream",
     "text": [
      "+----------------+\n",
      "|council_district|\n",
      "+----------------+\n",
      "|             005|\n",
      "|             003|\n",
      "|             003|\n",
      "|             003|\n",
      "|             007|\n",
      "+----------------+\n",
      "only showing top 5 rows\n",
      "\n"
     ]
    },
    {
     "name": "stderr",
     "output_type": "stream",
     "text": [
      "23/07/06 10:28:29 WARN PythonRunner: Detected deadlock while completing task 0.0 in stage 15 (TID 27): Attempting to kill Python Worker\n",
      "                                                                                \r"
     ]
    }
   ],
   "source": [
    "cases = cases.withColumn('council_district', col('council_district').cast('int'))\n",
    "\n",
    "# '%03d' means at least 3 digits, pad with 0s\n",
    "#\n",
    "# In order to use the format_string function the way we are, we'll need to\n",
    "# convert council_district back to an integer temporarily, but the final output\n",
    "# will be a string.\n",
    "cases = cases.withColumn('council_district',\n",
    "                  format_string('%03d', col('council_district').cast('int')))\n",
    "\n",
    "cases.select(\"council_district\").show(5)"
   ]
  },
  {
   "cell_type": "code",
   "execution_count": 20,
   "id": "b6da3b55-e7d4-4eae-95d1-6cb02e7e2bae",
   "metadata": {},
   "outputs": [],
   "source": [
    "cases = (\n",
    "# calculates the number of days between the current timestamp & case_opened_date\n",
    "    cases.withColumn(\n",
    "        'case_age', datediff(current_timestamp(), 'case_opened_date')\n",
    "    )\n",
    "# Calculates the number of days between the case_closed_date & case_opened_date\n",
    "    .withColumn(\n",
    "        'days_to_closed', datediff('case_closed_date', 'case_opened_date')\n",
    "    )\n",
    "# since case_closed is boolean, we can check if it's T/F;\n",
    "#If the case is not closed, it takes the value from the \"case_age\" column\n",
    "#Otherwise, it takes the value from the \"days_to_closed\" column    \n",
    "    .withColumn(\n",
    "        'case_lifetime', \n",
    "            when(expr('! case_closed'), col('case_age')).otherwise(col('days_to_closed'))\n",
    "\n",
    "    )\n",
    ")"
   ]
  },
  {
   "cell_type": "code",
   "execution_count": 27,
   "id": "12bea739-f663-4ded-98e0-c78beed9db00",
   "metadata": {},
   "outputs": [],
   "source": [
    "# Extract zipcode\n",
    "cases = cases.withColumn('zipcode', regexp_extract(col('request_address'), r'\\d+$', 0))\n",
    "\n",
    "# Create a `case_lifetime` feature\n",
    "cases = (\n",
    "    cases.withColumn('case_age', datediff(to_timestamp(lit('2018-08-08 10:38:00')), 'case_opened_date'))\n",
    "    .withColumn('days_to_closed', datediff('case_closed_date', 'case_opened_date'))\n",
    "    .withColumn('case_lifetime', when(\n",
    "        col('case_closed'), col('days_to_closed')).otherwise(col('case_age')))\n",
    "    .withColumn('curr_case_age', datediff(current_timestamp(), 'case_opened_date'))\n",
    "    .drop('case_age', 'days_to_closed')\n",
    ")"
   ]
  },
  {
   "cell_type": "code",
   "execution_count": 28,
   "id": "2c73010d-3a86-4e6c-a689-567ad21409f5",
   "metadata": {},
   "outputs": [
    {
     "name": "stderr",
     "output_type": "stream",
     "text": [
      "23/07/06 10:30:57 WARN TaskSetManager: Stage 20 contains a task of very large size (18868 KiB). The maximum recommended task size is 1000 KiB.\n",
      "[Stage 20:>                                                         (0 + 1) / 1]\r"
     ]
    },
    {
     "name": "stdout",
     "output_type": "stream",
     "text": [
      "-RECORD 0------------------------------------\n",
      " case_id              | 1014127332           \n",
      " case_opened_date     | 2018-01-01 00:42:00  \n",
      " case_closed_date     | 2018-01-01 12:29:00  \n",
      " case_due_date        | 2020-09-26 00:42:00  \n",
      " case_late            | false                \n",
      " num_days_late        | -998.5087616         \n",
      " case_closed          | true                 \n",
      " dept_division        | Field Operations     \n",
      " service_request_type | Stray Animal         \n",
      " case_days            | 999.0                \n",
      " case_status          | Closed               \n",
      " source_id            | svcCRMLS             \n",
      " request_address      | 2315  el paso st,... \n",
      " council_district     | 005                  \n",
      " num_weeks_late       | -142.6441088         \n",
      " case_lifetime        | 0                    \n",
      " zipcode              | 78207                \n",
      " curr_case_age        | 2012                 \n",
      "-RECORD 1------------------------------------\n",
      " case_id              | 1014127333           \n",
      " case_opened_date     | 2018-01-01 00:46:00  \n",
      " case_closed_date     | 2018-01-03 08:11:00  \n",
      " case_due_date        | 2018-01-05 08:30:00  \n",
      " case_late            | false                \n",
      " num_days_late        | -2.012604167         \n",
      " case_closed          | true                 \n",
      " dept_division        | Storm Water          \n",
      " service_request_type | Removal Of Obstru... \n",
      " case_days            | 4.322222222          \n",
      " case_status          | Closed               \n",
      " source_id            | svcCRMSS             \n",
      " request_address      | 2215  goliad rd, ... \n",
      " council_district     | 003                  \n",
      " num_weeks_late       | -0.287514881         \n",
      " case_lifetime        | 2                    \n",
      " zipcode              | 78223                \n",
      " curr_case_age        | 2012                 \n",
      "only showing top 2 rows\n",
      "\n"
     ]
    },
    {
     "name": "stderr",
     "output_type": "stream",
     "text": [
      "23/07/06 10:31:01 WARN PythonRunner: Detected deadlock while completing task 0.0 in stage 20 (TID 32): Attempting to kill Python Worker\n",
      "                                                                                \r"
     ]
    }
   ],
   "source": [
    "cases.show(2, vertical=True)"
   ]
  },
  {
   "cell_type": "markdown",
   "id": "f71af369-c01c-465d-98cf-8e3c0e06ae4b",
   "metadata": {},
   "source": [
    "---\n",
    "### Dept"
   ]
  },
  {
   "cell_type": "code",
   "execution_count": 22,
   "id": "c0a0142b-0eda-47c5-99fb-ee82d454fa17",
   "metadata": {},
   "outputs": [
    {
     "name": "stdout",
     "output_type": "stream",
     "text": [
      "+--------------------+--------------------+----------------------+-------------------+\n",
      "|       dept_division|           dept_name|standardized_dept_name|dept_subject_to_SLA|\n",
      "+--------------------+--------------------+----------------------+-------------------+\n",
      "|     311 Call Center|    Customer Service|      Customer Service|                YES|\n",
      "|               Brush|Solid Waste Manag...|           Solid Waste|                YES|\n",
      "|     Clean and Green|Parks and Recreation|    Parks & Recreation|                YES|\n",
      "|Clean and Green N...|Parks and Recreation|    Parks & Recreation|                YES|\n",
      "+--------------------+--------------------+----------------------+-------------------+\n",
      "only showing top 4 rows\n",
      "\n"
     ]
    }
   ],
   "source": [
    "query = \"\"\"SELECT * FROM dept\"\"\"\n",
    "dept = pd.read_sql(query, url)\n",
    "dept = spark.createDataFrame(dept)\n",
    "dept.show(4)"
   ]
  },
  {
   "cell_type": "code",
   "execution_count": 15,
   "id": "809f3c80-b3a8-4dce-af5a-c62e8e089652",
   "metadata": {},
   "outputs": [],
   "source": [
    "# dept.write.json('dept_json', mode='overwrite')\n",
    "# dept.write.csv('dept_csv', mode='overwrite')"
   ]
  },
  {
   "cell_type": "code",
   "execution_count": 23,
   "id": "75500990-6679-436e-a3e2-9789f891414a",
   "metadata": {},
   "outputs": [
    {
     "data": {
      "text/plain": [
       "StructType([StructField('dept_division', StringType(), True), StructField('dept_name', StringType(), True), StructField('standardized_dept_name', StringType(), True), StructField('dept_subject_to_SLA', StringType(), True)])"
      ]
     },
     "execution_count": 23,
     "metadata": {},
     "output_type": "execute_result"
    }
   ],
   "source": [
    "dept.schema"
   ]
  },
  {
   "cell_type": "markdown",
   "id": "103aad30-8141-45a1-a98e-ed9f28460926",
   "metadata": {},
   "source": [
    "---\n",
    "### Source"
   ]
  },
  {
   "cell_type": "code",
   "execution_count": 24,
   "id": "bf193dc7-7ef9-4333-b759-e4e495a6b2f0",
   "metadata": {},
   "outputs": [
    {
     "name": "stdout",
     "output_type": "stream",
     "text": [
      "+-----+---------+----------------+\n",
      "|index|source_id| source_username|\n",
      "+-----+---------+----------------+\n",
      "|    0|   100137|Merlene Blodgett|\n",
      "|    1|   103582|     Carmen Cura|\n",
      "|    2|   106463| Richard Sanchez|\n",
      "|    3|   119403|  Betty De Hoyos|\n",
      "+-----+---------+----------------+\n",
      "only showing top 4 rows\n",
      "\n"
     ]
    }
   ],
   "source": [
    "query = \"\"\"SELECT * FROM source\"\"\"\n",
    "source = pd.read_sql(query, url)\n",
    "source = spark.createDataFrame(source)\n",
    "source.show(4)"
   ]
  },
  {
   "cell_type": "code",
   "execution_count": 25,
   "id": "e2cc4b90-f14c-4db3-a805-44f60f359812",
   "metadata": {},
   "outputs": [],
   "source": [
    "# source.write.json('source_json', mode='overwrite')\n",
    "# source.write.csv('source_csv', mode='overwrite')"
   ]
  },
  {
   "cell_type": "code",
   "execution_count": 26,
   "id": "b7287315-8a65-4f20-ac42-65d7aa3dab2c",
   "metadata": {},
   "outputs": [
    {
     "data": {
      "text/plain": [
       "StructType([StructField('index', LongType(), True), StructField('source_id', StringType(), True), StructField('source_username', StringType(), True)])"
      ]
     },
     "execution_count": 26,
     "metadata": {},
     "output_type": "execute_result"
    }
   ],
   "source": [
    "source.schema"
   ]
  },
  {
   "cell_type": "code",
   "execution_count": null,
   "id": "b27a6d9d-5931-4c43-8d06-261d6c188054",
   "metadata": {},
   "outputs": [],
   "source": []
  },
  {
   "cell_type": "markdown",
   "id": "206b1125-a395-4650-a973-809bf2214320",
   "metadata": {},
   "source": [
    "## 1. How old is the latest (in terms of days past SLA) currently open issue? How long has the oldest (in terms of days since opened) currently opened issue been open?"
   ]
  },
  {
   "cell_type": "code",
   "execution_count": 29,
   "id": "c1377aa1-9c6d-4876-bcb9-0abeab00088a",
   "metadata": {},
   "outputs": [
    {
     "name": "stderr",
     "output_type": "stream",
     "text": [
      "23/07/06 10:35:20 WARN TaskSetManager: Stage 21 contains a task of very large size (18868 KiB). The maximum recommended task size is 1000 KiB.\n",
      "                                                                                \r"
     ]
    },
    {
     "name": "stdout",
     "output_type": "stream",
     "text": [
      "+----------+-------------+-------------------+----------------+-------------+\n",
      "|   case_id|case_lifetime|   case_opened_date|case_closed_date|num_days_late|\n",
      "+----------+-------------+-------------------+----------------+-------------+\n",
      "|1014206419|          190|2018-01-30 16:54:00|            null|          NaN|\n",
      "|1014558316|           70|2018-05-30 11:35:00|            null|          NaN|\n",
      "|1014759588|            0|2018-08-08 10:33:00|            null|          NaN|\n",
      "|1014598231|           57|2018-06-12 16:53:00|            null|          NaN|\n",
      "|1014397247|          125|2018-04-05 14:59:00|            null|          NaN|\n",
      "+----------+-------------+-------------------+----------------+-------------+\n",
      "only showing top 5 rows\n",
      "\n"
     ]
    }
   ],
   "source": [
    "cases.filter(\"! case_closed\")\\\n",
    "    .select('case_id', 'case_lifetime', 'case_opened_date', 'case_closed_date', 'num_days_late')\\\n",
    "    .sort(desc(\"num_days_late\")).show(5)"
   ]
  },
  {
   "cell_type": "code",
   "execution_count": 30,
   "id": "600c2913-9b2f-4d68-8b27-597dc7afeb53",
   "metadata": {},
   "outputs": [
    {
     "name": "stderr",
     "output_type": "stream",
     "text": [
      "23/07/06 10:35:31 WARN TaskSetManager: Stage 22 contains a task of very large size (18868 KiB). The maximum recommended task size is 1000 KiB.\n",
      "                                                                                \r"
     ]
    },
    {
     "name": "stdout",
     "output_type": "stream",
     "text": [
      "+----------+-------------+-------------+-------------------+----------------+-------------+\n",
      "|   case_id|case_lifetime|curr_case_age|   case_opened_date|case_closed_date|num_days_late|\n",
      "+----------+-------------+-------------+-------------------+----------------+-------------+\n",
      "|1013762220|          372|         2165|2017-08-01 10:43:00|            null|          NaN|\n",
      "|1013939287|          302|         2095|2017-10-10 10:57:00|            null|          NaN|\n",
      "|1014759588|            0|         1793|2018-08-08 10:33:00|            null|          NaN|\n",
      "|1013940992|          302|         2095|2017-10-10 16:34:00|            null|          NaN|\n",
      "|1014397247|          125|         1918|2018-04-05 14:59:00|            null|          NaN|\n",
      "+----------+-------------+-------------+-------------------+----------------+-------------+\n",
      "only showing top 5 rows\n",
      "\n"
     ]
    }
   ],
   "source": [
    "cases.filter(\"! case_closed\")\\\n",
    "    .select('case_id', 'case_lifetime', 'curr_case_age', 'case_opened_date', 'case_closed_date', 'num_days_late')\\\n",
    "    .sort(desc(\"num_days_late\")).show(5)"
   ]
  },
  {
   "cell_type": "markdown",
   "id": "e1608c79-6043-4757-bb4b-f1c2adeaa32c",
   "metadata": {},
   "source": [
    "## 2. How many Stray Animal cases are there?"
   ]
  },
  {
   "cell_type": "code",
   "execution_count": 31,
   "id": "43523d5c-fbd1-4b7b-8156-9556c83d98da",
   "metadata": {},
   "outputs": [
    {
     "name": "stderr",
     "output_type": "stream",
     "text": [
      "23/07/06 10:37:57 WARN TaskSetManager: Stage 23 contains a task of very large size (18868 KiB). The maximum recommended task size is 1000 KiB.\n",
      "[Stage 23:==================================================>       (7 + 1) / 8]\r"
     ]
    },
    {
     "name": "stdout",
     "output_type": "stream",
     "text": [
      "+---------------------------------+-----+\n",
      "|service_request_type             |count|\n",
      "+---------------------------------+-----+\n",
      "|No Pickup                        |86855|\n",
      "|Overgrown Yard/Trash             |65895|\n",
      "|Bandit Signs                     |32910|\n",
      "|Damaged Cart                     |30338|\n",
      "|Front Or Side Yard Parking       |28794|\n",
      "|Stray Animal                     |26760|\n",
      "|Aggressive Animal(Non-Critical)  |24882|\n",
      "|Cart Exchange Request            |22024|\n",
      "|Junk Vehicle On Private Property |21473|\n",
      "|Pot Hole Repair                  |20616|\n",
      "|Alley-Way Maintenance            |20214|\n",
      "|Lost/Stolen Cart                 |18731|\n",
      "|Right Of Way/Sidewalk Obstruction|17699|\n",
      "|Dead Animal - Dog                |16714|\n",
      "|Cart Delivery                    |15471|\n",
      "|Dead Animal - Cat                |14983|\n",
      "|Animal Neglect                   |13441|\n",
      "|Dead Animal - Misc               |13234|\n",
      "|Trapped/Confined Animal          |11354|\n",
      "|Public Nuisance(Own Animal)      |10715|\n",
      "+---------------------------------+-----+\n",
      "only showing top 20 rows\n",
      "\n"
     ]
    },
    {
     "name": "stderr",
     "output_type": "stream",
     "text": [
      "                                                                                \r"
     ]
    }
   ],
   "source": [
    "cases.groupby(\"service_request_type\").count().sort(desc(\"count\")).show(truncate=False)"
   ]
  },
  {
   "cell_type": "code",
   "execution_count": 33,
   "id": "de688aa3-58e0-402a-a8fb-06dc3ab0d2df",
   "metadata": {},
   "outputs": [
    {
     "name": "stderr",
     "output_type": "stream",
     "text": [
      "23/07/06 10:38:19 WARN TaskSetManager: Stage 26 contains a task of very large size (18868 KiB). The maximum recommended task size is 1000 KiB.\n",
      "                                                                                \r"
     ]
    },
    {
     "data": {
      "text/plain": [
       "26760"
      ]
     },
     "execution_count": 33,
     "metadata": {},
     "output_type": "execute_result"
    }
   ],
   "source": [
    "cases.filter(cases.service_request_type == lit(\"Stray Animal\")).count()"
   ]
  },
  {
   "cell_type": "markdown",
   "id": "f7ed7e0e-4903-40e4-9051-8515d74e21c9",
   "metadata": {},
   "source": [
    "## 3. How many service requests that are assigned to the Field Operations department (dept_division) are not classified as \"Officer Standby\" request type (service_request_type)?"
   ]
  },
  {
   "cell_type": "code",
   "execution_count": 35,
   "id": "f5e569a3-d142-4157-99ed-e29ee3153e6a",
   "metadata": {},
   "outputs": [
    {
     "name": "stderr",
     "output_type": "stream",
     "text": [
      "23/07/06 10:39:07 WARN TaskSetManager: Stage 29 contains a task of very large size (18868 KiB). The maximum recommended task size is 1000 KiB.\n",
      "                                                                                \r"
     ]
    },
    {
     "data": {
      "text/plain": [
       "113902"
      ]
     },
     "execution_count": 35,
     "metadata": {},
     "output_type": "execute_result"
    }
   ],
   "source": [
    "cases.filter(cases.dept_division == \"Field Operations\").filter(cases.service_request_type != \"Officer Standby\").count()"
   ]
  },
  {
   "cell_type": "markdown",
   "id": "1c08fd7c-fa33-4f56-bd61-0c8fc395eb61",
   "metadata": {},
   "source": [
    "## 4. Convert the council_district column to a string column."
   ]
  },
  {
   "cell_type": "code",
   "execution_count": 36,
   "id": "4bb14a09-9b66-4389-85cd-d3d9148ceb73",
   "metadata": {},
   "outputs": [],
   "source": [
    "cases = cases.withColumn('council_district', col('council_district').cast('string'))"
   ]
  },
  {
   "cell_type": "markdown",
   "id": "76d8dfcb-6ef7-4a38-95b7-d31f91735dc6",
   "metadata": {},
   "source": [
    "## 5. Extract the year from the case_closed_date column."
   ]
  },
  {
   "cell_type": "code",
   "execution_count": 37,
   "id": "1bf6d7d1-f5e1-4730-a099-f5746956b219",
   "metadata": {},
   "outputs": [
    {
     "name": "stderr",
     "output_type": "stream",
     "text": [
      "23/07/06 10:39:45 WARN TaskSetManager: Stage 32 contains a task of very large size (18868 KiB). The maximum recommended task size is 1000 KiB.\n",
      "[Stage 32:>                                                         (0 + 1) / 1]\r"
     ]
    },
    {
     "name": "stdout",
     "output_type": "stream",
     "text": [
      "+--------------------+-------------------+----+\n",
      "|service_request_type|   case_closed_date|year|\n",
      "+--------------------+-------------------+----+\n",
      "|        Stray Animal|2018-01-01 12:29:00|2018|\n",
      "|Removal Of Obstru...|2018-01-03 08:11:00|2018|\n",
      "|Removal Of Obstru...|2018-01-02 07:57:00|2018|\n",
      "|Front Or Side Yar...|2018-01-02 08:13:00|2018|\n",
      "|Animal Cruelty(Cr...|2018-01-01 13:29:00|2018|\n",
      "+--------------------+-------------------+----+\n",
      "only showing top 5 rows\n",
      "\n"
     ]
    },
    {
     "name": "stderr",
     "output_type": "stream",
     "text": [
      "23/07/06 10:39:49 WARN PythonRunner: Detected deadlock while completing task 0.0 in stage 32 (TID 76): Attempting to kill Python Worker\n",
      "                                                                                \r"
     ]
    }
   ],
   "source": [
    "cases.withColumn(\"year\", year(\"case_closed_date\")).select(\"service_request_type\", 'case_closed_date', 'year')\\\n",
    ".show(5)"
   ]
  },
  {
   "cell_type": "markdown",
   "id": "a5f9876b-521c-4196-b55e-ed5f1fee965d",
   "metadata": {},
   "source": [
    "## 6. Convert num_days_late from days to hours in new columns num_hours_late."
   ]
  },
  {
   "cell_type": "code",
   "execution_count": 39,
   "id": "171671da-6522-4ebd-bd9d-74f4a82f8483",
   "metadata": {},
   "outputs": [
    {
     "name": "stderr",
     "output_type": "stream",
     "text": [
      "23/07/06 10:40:07 WARN TaskSetManager: Stage 33 contains a task of very large size (18868 KiB). The maximum recommended task size is 1000 KiB.\n",
      "[Stage 33:>                                                         (0 + 1) / 1]\r"
     ]
    },
    {
     "name": "stdout",
     "output_type": "stream",
     "text": [
      "+-------------+--------------+\n",
      "|num_days_late|num_hours_late|\n",
      "+-------------+--------------+\n",
      "| -998.5087616|      -23964.2|\n",
      "| -2.012604167|         -48.3|\n",
      "| -3.022337963|         -72.5|\n",
      "| -15.01148148|        -360.3|\n",
      "|  0.372164352|           8.9|\n",
      "+-------------+--------------+\n",
      "only showing top 5 rows\n",
      "\n"
     ]
    },
    {
     "name": "stderr",
     "output_type": "stream",
     "text": [
      "23/07/06 10:40:11 WARN PythonRunner: Detected deadlock while completing task 0.0 in stage 33 (TID 77): Attempting to kill Python Worker\n",
      "                                                                                \r"
     ]
    }
   ],
   "source": [
    "cases.withColumn(\"num_hours_late\", round(expr(\"num_days_late * 24\"), 1))\\\n",
    ".select(\"num_days_late\", 'num_hours_late').show(5)"
   ]
  },
  {
   "cell_type": "markdown",
   "id": "53176960-8b0b-4a5c-ad25-65655a9d5f77",
   "metadata": {},
   "source": [
    "## 7. Join the case data with the source and department data."
   ]
  },
  {
   "cell_type": "code",
   "execution_count": 40,
   "id": "37947b84-7cdd-45c9-9db1-3d5a435bf132",
   "metadata": {},
   "outputs": [
    {
     "name": "stderr",
     "output_type": "stream",
     "text": [
      "23/07/06 10:40:59 WARN TaskSetManager: Stage 34 contains a task of very large size (18868 KiB). The maximum recommended task size is 1000 KiB.\n",
      "23/07/06 10:41:04 WARN PythonRunner: Detected deadlock while completing task 3.0 in stage 34 (TID 81): Attempting to kill Python Worker\n",
      "23/07/06 10:41:04 WARN PythonRunner: Detected deadlock while completing task 0.0 in stage 34 (TID 78): Attempting to kill Python Worker\n",
      "23/07/06 10:41:04 WARN PythonRunner: Detected deadlock while completing task 1.0 in stage 34 (TID 79): Attempting to kill Python Worker\n",
      "23/07/06 10:41:04 WARN PythonRunner: Detected deadlock while completing task 4.0 in stage 34 (TID 82): Attempting to kill Python Worker\n",
      "23/07/06 10:41:04 WARN PythonRunner: Detected deadlock while completing task 6.0 in stage 34 (TID 84): Attempting to kill Python Worker\n",
      "23/07/06 10:41:04 WARN PythonRunner: Detected deadlock while completing task 2.0 in stage 34 (TID 80): Attempting to kill Python Worker\n",
      "23/07/06 10:41:04 WARN PythonRunner: Detected deadlock while completing task 5.0 in stage 34 (TID 83): Attempting to kill Python Worker\n",
      "23/07/06 10:41:04 WARN PythonRunner: Detected deadlock while completing task 7.0 in stage 34 (TID 85): Attempting to kill Python Worker\n",
      "[Stage 35:>                                                         (0 + 8) / 8]\r"
     ]
    },
    {
     "name": "stdout",
     "output_type": "stream",
     "text": [
      "-RECORD 0------------------------------------\n",
      " source_id            | 119868               \n",
      " case_id              | 1014744357           \n",
      " case_opened_date     | 2018-08-02 16:53:00  \n",
      " case_closed_date     | 2018-08-03 14:33:00  \n",
      " case_due_date        | 2018-08-09 16:53:00  \n",
      " case_late            | false                \n",
      " num_days_late        | -6.096967593         \n",
      " case_closed          | true                 \n",
      " dept_division        | Waste Collection     \n",
      " service_request_type | Damaged Cart         \n",
      " case_days            | 7.0                  \n",
      " case_status          | Closed               \n",
      " request_address      | 555  gettysburg r... \n",
      " council_district     | 007                  \n",
      " num_weeks_late       | -0.8709953704285713  \n",
      " case_lifetime        | 1                    \n",
      " zipcode              | 78228                \n",
      " curr_case_age        | 1799                 \n",
      " index                | 5                    \n",
      " source_username      | Michelle San Miguel  \n",
      "-RECORD 1------------------------------------\n",
      " source_id            | 135723               \n",
      " case_id              | 1014331533           \n",
      " case_opened_date     | 2018-03-16 09:24:00  \n",
      " case_closed_date     | 2018-03-17 16:50:00  \n",
      " case_due_date        | 2018-03-21 09:24:00  \n",
      " case_late            | false                \n",
      " num_days_late        | -3.690104167         \n",
      " case_closed          | true                 \n",
      " dept_division        | Waste Collection     \n",
      " service_request_type | No Pickup            \n",
      " case_days            | 5.0                  \n",
      " case_status          | Closed               \n",
      " request_address      | 123  pima st, san... \n",
      " council_district     | 004                  \n",
      " num_weeks_late       | -0.5271577381428572  \n",
      " case_lifetime        | 1                    \n",
      " zipcode              | 78211                \n",
      " curr_case_age        | 1938                 \n",
      " index                | 9                    \n",
      " source_username      | Amy Cardenas         \n",
      "only showing top 2 rows\n",
      "\n"
     ]
    },
    {
     "name": "stderr",
     "output_type": "stream",
     "text": [
      "                                                                                \r"
     ]
    }
   ],
   "source": [
    "df = cases.join(source, \"source_id\", \"left\").drop(source.source_id)\n",
    "\n",
    "df.show(2, vertical=True)"
   ]
  },
  {
   "cell_type": "code",
   "execution_count": 41,
   "id": "c13b4458-246c-4009-91fe-d45a3a5a1228",
   "metadata": {},
   "outputs": [
    {
     "name": "stderr",
     "output_type": "stream",
     "text": [
      "23/07/06 10:41:10 WARN TaskSetManager: Stage 39 contains a task of very large size (18868 KiB). The maximum recommended task size is 1000 KiB.\n",
      "23/07/06 10:41:14 WARN PythonRunner: Detected deadlock while completing task 7.0 in stage 39 (TID 102): Attempting to kill Python Worker\n",
      "23/07/06 10:41:14 WARN PythonRunner: Detected deadlock while completing task 3.0 in stage 39 (TID 98): Attempting to kill Python Worker\n",
      "23/07/06 10:41:14 WARN PythonRunner: Detected deadlock while completing task 1.0 in stage 39 (TID 96): Attempting to kill Python Worker\n",
      "23/07/06 10:41:14 WARN PythonRunner: Detected deadlock while completing task 4.0 in stage 39 (TID 99): Attempting to kill Python Worker\n",
      "23/07/06 10:41:14 WARN PythonRunner: Detected deadlock while completing task 6.0 in stage 39 (TID 101): Attempting to kill Python Worker\n",
      "23/07/06 10:41:14 WARN PythonRunner: Detected deadlock while completing task 2.0 in stage 39 (TID 97): Attempting to kill Python Worker\n",
      "23/07/06 10:41:14 WARN PythonRunner: Detected deadlock while completing task 5.0 in stage 39 (TID 100): Attempting to kill Python Worker\n",
      "23/07/06 10:41:14 WARN PythonRunner: Detected deadlock while completing task 0.0 in stage 39 (TID 95): Attempting to kill Python Worker\n",
      "                                                                                \r"
     ]
    },
    {
     "name": "stdout",
     "output_type": "stream",
     "text": [
      "-RECORD 0------------------------------------\n",
      " dept_division        | Waste Collection     \n",
      " source_id            | 119868               \n",
      " case_id              | 1014744357           \n",
      " case_opened_date     | 2018-08-02 16:53:00  \n",
      " case_closed_date     | 2018-08-03 14:33:00  \n",
      " case_due_date        | 2018-08-09 16:53:00  \n",
      " case_late            | false                \n",
      " num_days_late        | -6.096967593         \n",
      " case_closed          | true                 \n",
      " service_request_type | Damaged Cart         \n",
      " case_days            | 7.0                  \n",
      " case_status          | Closed               \n",
      " request_address      | 555  gettysburg r... \n",
      " council_district     | 007                  \n",
      " num_weeks_late       | -0.8709953704285713  \n",
      " case_lifetime        | 1                    \n",
      " zipcode              | 78228                \n",
      " curr_case_age        | 1799                 \n",
      " index                | 5                    \n",
      " source_username      | Michelle San Miguel  \n",
      " department           | Solid Waste          \n",
      " dept_subject_to_SLA  | true                 \n",
      "-RECORD 1------------------------------------\n",
      " dept_division        | Waste Collection     \n",
      " source_id            | 135723               \n",
      " case_id              | 1014331533           \n",
      " case_opened_date     | 2018-03-16 09:24:00  \n",
      " case_closed_date     | 2018-03-17 16:50:00  \n",
      " case_due_date        | 2018-03-21 09:24:00  \n",
      " case_late            | false                \n",
      " num_days_late        | -3.690104167         \n",
      " case_closed          | true                 \n",
      " service_request_type | No Pickup            \n",
      " case_days            | 5.0                  \n",
      " case_status          | Closed               \n",
      " request_address      | 123  pima st, san... \n",
      " council_district     | 004                  \n",
      " num_weeks_late       | -0.5271577381428572  \n",
      " case_lifetime        | 1                    \n",
      " zipcode              | 78211                \n",
      " curr_case_age        | 1938                 \n",
      " index                | 9                    \n",
      " source_username      | Amy Cardenas         \n",
      " department           | Solid Waste          \n",
      " dept_subject_to_SLA  | true                 \n",
      "only showing top 2 rows\n",
      "\n"
     ]
    }
   ],
   "source": [
    "df = df.join(dept, \"dept_division\", \"left\")\\\n",
    "    .drop(dept.dept_division)\\\n",
    "    .drop(dept.dept_name)\\\n",
    "    .withColumnRenamed('standardized_dept_name', 'department')\\\n",
    "    .withColumn('dept_subject_to_SLA', col('dept_subject_to_SLA') == 'YES')\n",
    "df.show(2, vertical=True)"
   ]
  },
  {
   "cell_type": "markdown",
   "id": "76b0a1ed-6eb1-4e19-855e-f0faeeed1874",
   "metadata": {},
   "source": [
    "## 8. Are there any cases that do not have a request source?"
   ]
  },
  {
   "cell_type": "code",
   "execution_count": 42,
   "id": "e7b34714-35f5-479b-ab33-0fe19ddebf62",
   "metadata": {},
   "outputs": [
    {
     "name": "stderr",
     "output_type": "stream",
     "text": [
      "23/07/06 10:41:56 WARN TaskSetManager: Stage 47 contains a task of very large size (18868 KiB). The maximum recommended task size is 1000 KiB.\n",
      "                                                                                \r"
     ]
    },
    {
     "data": {
      "text/plain": [
       "0"
      ]
     },
     "execution_count": 42,
     "metadata": {},
     "output_type": "execute_result"
    }
   ],
   "source": [
    "df.filter(df.source_id == \"null\").count()"
   ]
  },
  {
   "cell_type": "code",
   "execution_count": 43,
   "id": "67db135a-b1c3-4dda-99a1-54854cd55224",
   "metadata": {},
   "outputs": [
    {
     "name": "stderr",
     "output_type": "stream",
     "text": [
      "23/07/06 10:41:59 WARN TaskSetManager: Stage 52 contains a task of very large size (18868 KiB). The maximum recommended task size is 1000 KiB.\n",
      "                                                                                \r"
     ]
    },
    {
     "data": {
      "text/plain": [
       "0"
      ]
     },
     "execution_count": 43,
     "metadata": {},
     "output_type": "execute_result"
    }
   ],
   "source": [
    "df.filter(df.source_id == \"\").count()"
   ]
  },
  {
   "cell_type": "markdown",
   "id": "81b918b3-6846-4764-b451-c19e3925a2ed",
   "metadata": {},
   "source": [
    "## 9. What are the top 10 service request types in terms of number of requests?"
   ]
  },
  {
   "cell_type": "code",
   "execution_count": 44,
   "id": "4d890a57-b621-40c4-8f4e-e68425bfe2ed",
   "metadata": {},
   "outputs": [
    {
     "name": "stderr",
     "output_type": "stream",
     "text": [
      "23/07/06 10:42:11 WARN TaskSetManager: Stage 57 contains a task of very large size (18868 KiB). The maximum recommended task size is 1000 KiB.\n",
      "[Stage 65:=================================================>        (6 + 1) / 7]\r"
     ]
    },
    {
     "name": "stdout",
     "output_type": "stream",
     "text": [
      "+--------------------------------+-----+\n",
      "|            service_request_type|count|\n",
      "+--------------------------------+-----+\n",
      "|                       No Pickup|89210|\n",
      "|            Overgrown Yard/Trash|66403|\n",
      "|                    Bandit Signs|32968|\n",
      "|                    Damaged Cart|31163|\n",
      "|      Front Or Side Yard Parking|28920|\n",
      "|                    Stray Animal|27361|\n",
      "| Aggressive Animal(Non-Critical)|25492|\n",
      "|           Cart Exchange Request|22608|\n",
      "|Junk Vehicle On Private Property|21649|\n",
      "|                 Pot Hole Repair|20827|\n",
      "+--------------------------------+-----+\n",
      "only showing top 10 rows\n",
      "\n"
     ]
    },
    {
     "name": "stderr",
     "output_type": "stream",
     "text": [
      "                                                                                \r"
     ]
    }
   ],
   "source": [
    "df.groupby(\"service_request_type\").count().sort(desc(\"count\")).show(10, 50)"
   ]
  },
  {
   "cell_type": "markdown",
   "id": "f24e491d-35a0-495c-8027-0452b5be753a",
   "metadata": {},
   "source": [
    "## 10. What are the top 10 service request types in terms of average days late?"
   ]
  },
  {
   "cell_type": "code",
   "execution_count": 45,
   "id": "615d2b74-99ba-4164-8c1b-243720d51ab3",
   "metadata": {},
   "outputs": [
    {
     "name": "stderr",
     "output_type": "stream",
     "text": [
      "23/07/06 10:43:10 WARN TaskSetManager: Stage 69 contains a task of very large size (18868 KiB). The maximum recommended task size is 1000 KiB.\n",
      "[Stage 77:=====================>                                    (3 + 5) / 8]\r"
     ]
    },
    {
     "name": "stdout",
     "output_type": "stream",
     "text": [
      "+--------------------------------------+--------+\n",
      "|                  service_request_type|avg_late|\n",
      "+--------------------------------------+--------+\n",
      "|      Request for Research/Information|     NaN|\n",
      "|CCO_Request for Research/Information_1|     NaN|\n",
      "|                    Zoning: Junk Yards|   176.0|\n",
      "|            Labeling for Used Mattress|   162.4|\n",
      "|     Record Keeping of Used Mattresses|   154.0|\n",
      "|Signage Requied for Sale of Used Mattr|   151.6|\n",
      "|              Storage of Used Mattress|   142.1|\n",
      "|                  Zoning: Recycle Yard|   135.9|\n",
      "|        Donation Container Enforcement|   131.8|\n",
      "|   License Requied Used Mattress Sales|   128.8|\n",
      "+--------------------------------------+--------+\n",
      "only showing top 10 rows\n",
      "\n"
     ]
    },
    {
     "name": "stderr",
     "output_type": "stream",
     "text": [
      "                                                                                \r"
     ]
    }
   ],
   "source": [
    "df.groupby(\"service_request_type\").agg(round(mean(\"num_days_late\"), 1).alias(\"avg_late\"))\\\n",
    ".sort(desc(\"avg_late\")).show(10, 50)"
   ]
  },
  {
   "cell_type": "markdown",
   "id": "5182e351-8c93-4ea8-aafc-6ea71eda1e4a",
   "metadata": {},
   "source": [
    "## 11. Does number of days late depend on department?"
   ]
  },
  {
   "cell_type": "code",
   "execution_count": 46,
   "id": "c9b090fa-069e-4e6f-8602-47ee9e30fa54",
   "metadata": {},
   "outputs": [
    {
     "name": "stderr",
     "output_type": "stream",
     "text": [
      "23/07/06 10:43:17 WARN TaskSetManager: Stage 81 contains a task of very large size (18868 KiB). The maximum recommended task size is 1000 KiB.\n",
      "[Stage 89:=================================================>        (6 + 1) / 7]\r"
     ]
    },
    {
     "name": "stdout",
     "output_type": "stream",
     "text": [
      "+------------------------+--------+\n",
      "|              department|avg_late|\n",
      "+------------------------+--------+\n",
      "|            City Council|     NaN|\n",
      "|        Customer Service|    59.7|\n",
      "|             Solid Waste|    -2.2|\n",
      "|            Metro Health|    -4.9|\n",
      "|      Parks & Recreation|    -5.3|\n",
      "|Trans & Cap Improvements|   -20.6|\n",
      "|    DSD/Code Enforcement|   -38.4|\n",
      "|    Animal Care Services|  -226.5|\n",
      "+------------------------+--------+\n",
      "\n"
     ]
    },
    {
     "name": "stderr",
     "output_type": "stream",
     "text": [
      "                                                                                \r"
     ]
    }
   ],
   "source": [
    "df.groupby(\"department\").agg(round(mean(\"num_days_late\"), 1). alias(\"avg_late\"))\\\n",
    ".sort(desc(\"avg_late\")).show(10, 50)"
   ]
  },
  {
   "cell_type": "markdown",
   "id": "2ff934e6-0aa1-41ee-b3a9-3c363a3c7232",
   "metadata": {},
   "source": [
    "## 12. How do number of days late depend on department and request type?"
   ]
  },
  {
   "cell_type": "code",
   "execution_count": 47,
   "id": "5e5eb70b-55e7-4fc2-adb6-b49365ccb483",
   "metadata": {},
   "outputs": [
    {
     "name": "stderr",
     "output_type": "stream",
     "text": [
      "23/07/06 10:43:21 WARN TaskSetManager: Stage 93 contains a task of very large size (18868 KiB). The maximum recommended task size is 1000 KiB.\n",
      "[Stage 101:=========================================================(8 + 0) / 8]\r"
     ]
    },
    {
     "name": "stdout",
     "output_type": "stream",
     "text": [
      "+--------------------+----------------------------------------+-------------+\n",
      "|          department|                    service_request_type|avg_days_late|\n",
      "+--------------------+----------------------------------------+-------------+\n",
      "|Animal Care Services|                Injured Animal(Critical)|         -0.1|\n",
      "|Animal Care Services|             Aggressive Animal(Critical)|         16.7|\n",
      "|Animal Care Services|                   Animal Bite(Critical)|          0.0|\n",
      "|Animal Care Services|                 Trapped/Confined Animal|          0.2|\n",
      "|Animal Care Services|             City Council Animal Request|         -1.5|\n",
      "|Animal Care Services|                            Stray Animal|       -998.8|\n",
      "|Animal Care Services|                Animal Cruelty(Critical)|         -0.1|\n",
      "|Animal Care Services|             Public Nuisance(Own Animal)|         -2.2|\n",
      "|Animal Care Services|                          Animal Neglect|          7.3|\n",
      "|Animal Care Services|                         Officer Standby|         -0.1|\n",
      "|Animal Care Services|                  Animal Permits Request|         22.2|\n",
      "|Animal Care Services|         Aggressive Animal(Non-Critical)|          2.6|\n",
      "|Animal Care Services|               Animal Bite(Non-Critical)|         -2.5|\n",
      "|Animal Care Services|            Spay/Neuter Request Response|         -7.0|\n",
      "|        City Council|        Request for Research/Information|          NaN|\n",
      "|        City Council|  CCO_Request for Research/Information_1|          NaN|\n",
      "|    Customer Service|                              Compliment|         -8.0|\n",
      "|    Customer Service|                               Complaint|         72.9|\n",
      "|DSD/Code Enforcement|                  Dumpsters: City R.O.W.|         -9.5|\n",
      "|DSD/Code Enforcement|          Minimum Housing-Owner Occupied|       -107.0|\n",
      "|DSD/Code Enforcement|                  Vacant Lot-City (1000)|        -55.4|\n",
      "|DSD/Code Enforcement|                      Graffiti: Building|         -0.9|\n",
      "|DSD/Code Enforcement|               Dang Premises/Secure Only|        -39.9|\n",
      "|DSD/Code Enforcement|              Zoning: Oversized Vehicles|         -4.7|\n",
      "|DSD/Code Enforcement|                        Permits Building|         -1.6|\n",
      "|DSD/Code Enforcement|                        Vehicle Blocking|          0.0|\n",
      "|DSD/Code Enforcement|             Dart Preliminary Inspection|         -3.2|\n",
      "|DSD/Code Enforcement|  Fly Breeding and Animal Waste Disposal|        -56.7|\n",
      "|DSD/Code Enforcement|  Graffiti: Private Property (Corridors)|        -63.2|\n",
      "|DSD/Code Enforcement|           Animal Investigation Referral|        -41.0|\n",
      "|DSD/Code Enforcement|                    Vacant Lot: Over 12\"|        -22.5|\n",
      "|DSD/Code Enforcement|       Right Of Way/Sidewalk Obstruction|         -8.2|\n",
      "|DSD/Code Enforcement|                Boarding Home Inspection|         12.7|\n",
      "|DSD/Code Enforcement|                    Zoning: Mobile Homes|        -87.6|\n",
      "|DSD/Code Enforcement|                      Zoning: Junk Yards|        176.0|\n",
      "|DSD/Code Enforcement|              Graffiti: Drainage Channel|         -0.6|\n",
      "|DSD/Code Enforcement|                    Sewer No Connections|        -59.8|\n",
      "|DSD/Code Enforcement|           Graffiti: Traffic Control Box|         -0.8|\n",
      "|DSD/Code Enforcement|                Vacant Lot-Private (48\")|        -40.6|\n",
      "|DSD/Code Enforcement|                                 Vendors|         66.5|\n",
      "|DSD/Code Enforcement|                   Wasting Water (Leaks)|       -113.6|\n",
      "|DSD/Code Enforcement|                  CPS Energy Metal Poles|       -129.2|\n",
      "|DSD/Code Enforcement|                       Water No Services|       -113.7|\n",
      "|DSD/Code Enforcement|Used/Scrap Tire Facility License Pending|        -71.2|\n",
      "|DSD/Code Enforcement|             Vacant House Overgrown Yard|        -49.8|\n",
      "|DSD/Code Enforcement|        Junk Vehicle On Private Property|        -42.7|\n",
      "|DSD/Code Enforcement|                        Zoning: Setbacks|        -85.3|\n",
      "|DSD/Code Enforcement|                       Sewer Line Broken|        -53.8|\n",
      "|DSD/Code Enforcement|       Street Light Existing Res Sub Div|         13.7|\n",
      "|DSD/Code Enforcement|   Low Hanging Limbs on Streets/Sidewalk|       -112.8|\n",
      "+--------------------+----------------------------------------+-------------+\n",
      "only showing top 50 rows\n",
      "\n"
     ]
    },
    {
     "name": "stderr",
     "output_type": "stream",
     "text": [
      "                                                                                \r"
     ]
    }
   ],
   "source": [
    "df.groupby(\"department\", \"service_request_type\")\\\n",
    ".agg(round(avg(\"num_days_late\"), 1).alias(\"avg_days_late\")).sort(\"department\").show(50,50)"
   ]
  },
  {
   "cell_type": "code",
   "execution_count": null,
   "id": "8c259e22-ca7d-4c51-90ce-40646997b05e",
   "metadata": {},
   "outputs": [],
   "source": []
  },
  {
   "cell_type": "code",
   "execution_count": null,
   "id": "720fd562-5dc5-44d9-a34b-01d05ecef0b2",
   "metadata": {},
   "outputs": [],
   "source": []
  }
 ],
 "metadata": {
  "kernelspec": {
   "display_name": "Python 3 (ipykernel)",
   "language": "python",
   "name": "python3"
  },
  "language_info": {
   "codemirror_mode": {
    "name": "ipython",
    "version": 3
   },
   "file_extension": ".py",
   "mimetype": "text/x-python",
   "name": "python",
   "nbconvert_exporter": "python",
   "pygments_lexer": "ipython3",
   "version": "3.9.13"
  }
 },
 "nbformat": 4,
 "nbformat_minor": 5
}
