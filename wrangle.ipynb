{
 "cells": [
  {
   "cell_type": "markdown",
   "id": "6d39b818-9c52-4a22-b783-23a4d7a4646b",
   "metadata": {},
   "source": [
    "#### Imports"
   ]
  },
  {
   "cell_type": "code",
   "execution_count": 3,
   "id": "a93689c3-7dcd-48f4-a34a-1688c03bf321",
   "metadata": {},
   "outputs": [],
   "source": [
    "import os\n",
    "import pyspark\n",
    "from pyspark.sql import SparkSession\n",
    "from pyspark.sql.functions import *\n",
    "from pyspark.sql.types import StructType, StructField, StringType\n",
    "import pandas as pd\n",
    "from env import host, username, password"
   ]
  },
  {
   "cell_type": "markdown",
   "id": "79acfd7d-93fc-463a-ab87-2bd0fbaf06c1",
   "metadata": {},
   "source": [
    "# Exercises"
   ]
  },
  {
   "cell_type": "markdown",
   "id": "01d7ebd8-a698-45a9-a439-817dcc852d69",
   "metadata": {},
   "source": [
    "1. Read the case, department, and source data into their own spark dataframes.\n",
    "2. Let's see how writing to the local disk works in spark:\n",
    "    - Write the code necessary to store the source data in both csv and json format, store these as sources_csv and sources_json\n",
    "    - Inspect your folder structure. What do you notice?\n",
    "3. Inspect the data in your dataframes. Are the data types appropriate? Write the code necessary to cast the values to the appropriate types."
   ]
  },
  {
   "cell_type": "code",
   "execution_count": 9,
   "id": "3034be0f-ec97-4753-b1c0-38cf6bd3974f",
   "metadata": {},
   "outputs": [
    {
     "name": "stderr",
     "output_type": "stream",
     "text": [
      "Setting default log level to \"WARN\".\n",
      "To adjust logging level use sc.setLogLevel(newLevel). For SparkR, use setLogLevel(newLevel).\n",
      "23/07/05 13:17:54 WARN NativeCodeLoader: Unable to load native-hadoop library for your platform... using builtin-java classes where applicable\n",
      "23/07/05 13:17:55 WARN Utils: Service 'SparkUI' could not bind on port 4040. Attempting port 4041.\n"
     ]
    }
   ],
   "source": [
    "# Generate spark object to initialize a local Spark JVM process\n",
    "spark = SparkSession.builder.getOrCreate()"
   ]
  },
  {
   "cell_type": "code",
   "execution_count": 6,
   "id": "afbd06a6-6d29-4fab-871b-a7d8bb84d405",
   "metadata": {},
   "outputs": [],
   "source": [
    "def get_connection_url(db, user=username, host=host, password=password):\n",
    "    '''\n",
    "    This function uses my info from my env file to\n",
    "    create a connection url to access the Codeup db.\n",
    "    '''\n",
    "    return f'mysql+pymysql://{username}:{password}@{host}/{db}'"
   ]
  },
  {
   "cell_type": "code",
   "execution_count": 7,
   "id": "def04190-7e27-4883-8aca-4c763aa4c5d2",
   "metadata": {},
   "outputs": [],
   "source": [
    "url = get_connection_url(\"311_data\")"
   ]
  },
  {
   "cell_type": "markdown",
   "id": "45f4098c-bc45-4636-956c-ad3a257dfa17",
   "metadata": {},
   "source": [
    "---\n",
    "### Case"
   ]
  },
  {
   "cell_type": "code",
   "execution_count": 10,
   "id": "b985314e-48f2-42fe-9bdb-8bb97372ca7f",
   "metadata": {},
   "outputs": [
    {
     "name": "stderr",
     "output_type": "stream",
     "text": [
      "23/07/05 13:19:16 WARN TaskSetManager: Stage 0 contains a task of very large size (18868 KiB). The maximum recommended task size is 1000 KiB.\n",
      "23/07/05 13:19:20 WARN PythonRunner: Detected deadlock while completing task 0.0 in stage 0 (TID 0): Attempting to kill Python Worker\n",
      "                                                                                \r"
     ]
    },
    {
     "name": "stdout",
     "output_type": "stream",
     "text": [
      "+----------+----------------+----------------+------------+---------+-------------+-----------+----------------+--------------------+-----------+-----------+---------+--------------------+----------------+\n",
      "|   case_id|case_opened_date|case_closed_date|SLA_due_date|case_late|num_days_late|case_closed|   dept_division|service_request_type|   SLA_days|case_status|source_id|     request_address|council_district|\n",
      "+----------+----------------+----------------+------------+---------+-------------+-----------+----------------+--------------------+-----------+-----------+---------+--------------------+----------------+\n",
      "|1014127332|     1/1/18 0:42|    1/1/18 12:29|9/26/20 0:42|       NO| -998.5087616|        YES|Field Operations|        Stray Animal|      999.0|     Closed| svcCRMLS|2315  EL PASO ST,...|               5|\n",
      "|1014127333|     1/1/18 0:46|     1/3/18 8:11| 1/5/18 8:30|       NO| -2.012604167|        YES|     Storm Water|Removal Of Obstru...|4.322222222|     Closed| svcCRMSS|2215  GOLIAD RD, ...|               3|\n",
      "|1014127334|     1/1/18 0:48|     1/2/18 7:57| 1/5/18 8:30|       NO| -3.022337963|        YES|     Storm Water|Removal Of Obstru...|4.320729167|     Closed| svcCRMSS|102  PALFREY ST W...|               3|\n",
      "|1014127335|     1/1/18 1:29|     1/2/18 8:13|1/17/18 8:30|       NO| -15.01148148|        YES|Code Enforcement|Front Or Side Yar...|16.29188657|     Closed| svcCRMSS|114  LA GARDE ST,...|               3|\n",
      "+----------+----------------+----------------+------------+---------+-------------+-----------+----------------+--------------------+-----------+-----------+---------+--------------------+----------------+\n",
      "only showing top 4 rows\n",
      "\n"
     ]
    }
   ],
   "source": [
    "query = \"\"\"SELECT * FROM cases\"\"\"\n",
    "case = pd.read_sql(query, url)\n",
    "case = spark.createDataFrame(case)\n",
    "case.show(4)"
   ]
  },
  {
   "cell_type": "code",
   "execution_count": 11,
   "id": "25d66172-3ef6-40a8-b088-194af68d030c",
   "metadata": {},
   "outputs": [
    {
     "name": "stderr",
     "output_type": "stream",
     "text": [
      "23/07/05 13:34:00 WARN TaskSetManager: Stage 1 contains a task of very large size (18868 KiB). The maximum recommended task size is 1000 KiB.\n",
      "23/07/05 13:34:04 WARN PythonRunner: Detected deadlock while completing task 0.0 in stage 1 (TID 1): Attempting to kill Python Worker\n",
      "                                                                                \r"
     ]
    },
    {
     "name": "stdout",
     "output_type": "stream",
     "text": [
      "-RECORD 0------------------------------------\n",
      " case_id              | 1014127332           \n",
      " case_opened_date     | 1/1/18 0:42          \n",
      " case_closed_date     | 1/1/18 12:29         \n",
      " SLA_due_date         | 9/26/20 0:42         \n",
      " case_late            | NO                   \n",
      " num_days_late        | -998.5087616         \n",
      " case_closed          | YES                  \n",
      " dept_division        | Field Operations     \n",
      " service_request_type | Stray Animal         \n",
      " SLA_days             | 999.0                \n",
      " case_status          | Closed               \n",
      " source_id            | svcCRMLS             \n",
      " request_address      | 2315  EL PASO ST,... \n",
      " council_district     | 5                    \n",
      "-RECORD 1------------------------------------\n",
      " case_id              | 1014127333           \n",
      " case_opened_date     | 1/1/18 0:46          \n",
      " case_closed_date     | 1/3/18 8:11          \n",
      " SLA_due_date         | 1/5/18 8:30          \n",
      " case_late            | NO                   \n",
      " num_days_late        | -2.012604167         \n",
      " case_closed          | YES                  \n",
      " dept_division        | Storm Water          \n",
      " service_request_type | Removal Of Obstru... \n",
      " SLA_days             | 4.322222222          \n",
      " case_status          | Closed               \n",
      " source_id            | svcCRMSS             \n",
      " request_address      | 2215  GOLIAD RD, ... \n",
      " council_district     | 3                    \n",
      "only showing top 2 rows\n",
      "\n"
     ]
    }
   ],
   "source": [
    "case.show(2, vertical=True)"
   ]
  },
  {
   "cell_type": "code",
   "execution_count": 14,
   "id": "60f90cbe-600b-41c8-9e15-2d3fc1f7ba66",
   "metadata": {},
   "outputs": [
    {
     "name": "stderr",
     "output_type": "stream",
     "text": [
      "23/07/05 13:38:41 WARN TaskSetManager: Stage 5 contains a task of very large size (18868 KiB). The maximum recommended task size is 1000 KiB.\n",
      "23/07/05 13:38:48 WARN TaskSetManager: Stage 6 contains a task of very large size (18868 KiB). The maximum recommended task size is 1000 KiB.\n",
      "                                                                                \r"
     ]
    }
   ],
   "source": [
    "# case.write.json('case_json', mode='overwrite')\n",
    "# case.write.csv('case_csv', mode='overwrite')"
   ]
  },
  {
   "cell_type": "code",
   "execution_count": 17,
   "id": "ab46ecf6-d39b-4644-9254-98223ed37811",
   "metadata": {},
   "outputs": [
    {
     "data": {
      "text/plain": [
       "StructType([StructField('case_id', LongType(), True), StructField('case_opened_date', StringType(), True), StructField('case_closed_date', StringType(), True), StructField('SLA_due_date', StringType(), True), StructField('case_late', StringType(), True), StructField('num_days_late', DoubleType(), True), StructField('case_closed', StringType(), True), StructField('dept_division', StringType(), True), StructField('service_request_type', StringType(), True), StructField('SLA_days', DoubleType(), True), StructField('case_status', StringType(), True), StructField('source_id', StringType(), True), StructField('request_address', StringType(), True), StructField('council_district', LongType(), True)])"
      ]
     },
     "execution_count": 17,
     "metadata": {},
     "output_type": "execute_result"
    }
   ],
   "source": [
    "case.schema"
   ]
  },
  {
   "cell_type": "code",
   "execution_count": 20,
   "id": "af96139a-86a4-4937-bd78-7fb0e5fb65e5",
   "metadata": {},
   "outputs": [
    {
     "name": "stderr",
     "output_type": "stream",
     "text": [
      "23/07/05 13:58:54 WARN TaskSetManager: Stage 11 contains a task of very large size (18868 KiB). The maximum recommended task size is 1000 KiB.\n",
      "23/07/05 13:58:58 WARN PythonRunner: Detected deadlock while completing task 0.0 in stage 11 (TID 53): Attempting to kill Python Worker\n",
      "                                                                                \r"
     ]
    },
    {
     "name": "stdout",
     "output_type": "stream",
     "text": [
      "-RECORD 0------------------------------------\n",
      " case_id              | 1014127332           \n",
      " case_opened_date     | 1/1/18 0:42          \n",
      " case_closed_date     | 1/1/18 12:29         \n",
      " case_due_date        | 9/26/20 0:42         \n",
      " case_late            | NO                   \n",
      " num_days_late        | -998.5087616         \n",
      " case_closed          | YES                  \n",
      " dept_division        | Field Operations     \n",
      " service_request_type | Stray Animal         \n",
      " SLA_days             | 999.0                \n",
      " case_status          | Closed               \n",
      " source_id            | svcCRMLS             \n",
      " request_address      | 2315  EL PASO ST,... \n",
      " council_district     | 5                    \n",
      "-RECORD 1------------------------------------\n",
      " case_id              | 1014127333           \n",
      " case_opened_date     | 1/1/18 0:46          \n",
      " case_closed_date     | 1/3/18 8:11          \n",
      " case_due_date        | 1/5/18 8:30          \n",
      " case_late            | NO                   \n",
      " num_days_late        | -2.012604167         \n",
      " case_closed          | YES                  \n",
      " dept_division        | Storm Water          \n",
      " service_request_type | Removal Of Obstru... \n",
      " SLA_days             | 4.322222222          \n",
      " case_status          | Closed               \n",
      " source_id            | svcCRMSS             \n",
      " request_address      | 2215  GOLIAD RD, ... \n",
      " council_district     | 3                    \n",
      "only showing top 2 rows\n",
      "\n"
     ]
    }
   ],
   "source": [
    "case = case.withColumnRenamed('SLA_due_date', 'case_due_date')\n",
    "case.show(2, vertical=True)"
   ]
  },
  {
   "cell_type": "code",
   "execution_count": 21,
   "id": "1d4d97d8-d06a-465f-8fb5-66be6138c2ae",
   "metadata": {},
   "outputs": [
    {
     "name": "stderr",
     "output_type": "stream",
     "text": [
      "23/07/05 13:59:01 WARN TaskSetManager: Stage 12 contains a task of very large size (18868 KiB). The maximum recommended task size is 1000 KiB.\n",
      "[Stage 12:>                                                         (0 + 1) / 1]\r"
     ]
    },
    {
     "name": "stdout",
     "output_type": "stream",
     "text": [
      "-RECORD 0------------------------------------\n",
      " case_id              | 1014127332           \n",
      " case_opened_date     | 1/1/18 0:42          \n",
      " case_closed_date     | 1/1/18 12:29         \n",
      " case_due_date        | 9/26/20 0:42         \n",
      " case_late            | NO                   \n",
      " num_days_late        | -998.5087616         \n",
      " case_closed          | YES                  \n",
      " dept_division        | Field Operations     \n",
      " service_request_type | Stray Animal         \n",
      " case_days            | 999.0                \n",
      " case_status          | Closed               \n",
      " source_id            | svcCRMLS             \n",
      " request_address      | 2315  EL PASO ST,... \n",
      " council_district     | 5                    \n",
      "-RECORD 1------------------------------------\n",
      " case_id              | 1014127333           \n",
      " case_opened_date     | 1/1/18 0:46          \n",
      " case_closed_date     | 1/3/18 8:11          \n",
      " case_due_date        | 1/5/18 8:30          \n",
      " case_late            | NO                   \n",
      " num_days_late        | -2.012604167         \n",
      " case_closed          | YES                  \n",
      " dept_division        | Storm Water          \n",
      " service_request_type | Removal Of Obstru... \n",
      " case_days            | 4.322222222          \n",
      " case_status          | Closed               \n",
      " source_id            | svcCRMSS             \n",
      " request_address      | 2215  GOLIAD RD, ... \n",
      " council_district     | 3                    \n",
      "only showing top 2 rows\n",
      "\n"
     ]
    },
    {
     "name": "stderr",
     "output_type": "stream",
     "text": [
      "23/07/05 13:59:05 WARN PythonRunner: Detected deadlock while completing task 0.0 in stage 12 (TID 54): Attempting to kill Python Worker\n",
      "                                                                                \r"
     ]
    }
   ],
   "source": [
    "case = case.withColumnRenamed('SLA_days', 'case_days')\n",
    "case.show(2, vertical=True)"
   ]
  },
  {
   "cell_type": "code",
   "execution_count": 22,
   "id": "d059537f-edc2-40f2-852f-459518f052bf",
   "metadata": {},
   "outputs": [
    {
     "name": "stderr",
     "output_type": "stream",
     "text": [
      "23/07/05 13:59:15 WARN TaskSetManager: Stage 13 contains a task of very large size (18868 KiB). The maximum recommended task size is 1000 KiB.\n",
      "[Stage 13:==================================================>       (7 + 1) / 8]\r"
     ]
    },
    {
     "name": "stdout",
     "output_type": "stream",
     "text": [
      "+-----------+---------+------+\n",
      "|case_closed|case_late| count|\n",
      "+-----------+---------+------+\n",
      "|         NO|      YES|  6525|\n",
      "|        YES|      YES| 87978|\n",
      "|         NO|       NO| 11585|\n",
      "|        YES|       NO|735616|\n",
      "+-----------+---------+------+\n",
      "\n"
     ]
    },
    {
     "name": "stderr",
     "output_type": "stream",
     "text": [
      "                                                                                \r"
     ]
    }
   ],
   "source": [
    "# demonstrating we only have yes/no in each field\n",
    "case.groupby('case_closed', 'case_late').count().show()"
   ]
  },
  {
   "cell_type": "code",
   "execution_count": 23,
   "id": "efd9e0da-a3bb-40a8-be55-a7330368c884",
   "metadata": {},
   "outputs": [
    {
     "name": "stderr",
     "output_type": "stream",
     "text": [
      "23/07/05 13:59:31 WARN TaskSetManager: Stage 16 contains a task of very large size (18868 KiB). The maximum recommended task size is 1000 KiB.\n",
      "[Stage 16:>                                                         (0 + 1) / 1]\r"
     ]
    },
    {
     "name": "stdout",
     "output_type": "stream",
     "text": [
      "+-----------+---------+\n",
      "|case_closed|case_late|\n",
      "+-----------+---------+\n",
      "|       true|    false|\n",
      "|       true|    false|\n",
      "|       true|    false|\n",
      "|       true|    false|\n",
      "|       true|     true|\n",
      "|       true|    false|\n",
      "|       true|    false|\n",
      "|       true|    false|\n",
      "|       true|    false|\n",
      "|       true|    false|\n",
      "|       true|    false|\n",
      "|       true|    false|\n",
      "|       true|    false|\n",
      "|       true|    false|\n",
      "|       true|    false|\n",
      "|       true|    false|\n",
      "|       true|    false|\n",
      "|       true|    false|\n",
      "|       true|    false|\n",
      "|       true|    false|\n",
      "+-----------+---------+\n",
      "only showing top 20 rows\n",
      "\n"
     ]
    },
    {
     "name": "stderr",
     "output_type": "stream",
     "text": [
      "23/07/05 13:59:35 WARN PythonRunner: Detected deadlock while completing task 0.0 in stage 16 (TID 64): Attempting to kill Python Worker\n",
      "                                                                                \r"
     ]
    }
   ],
   "source": [
    "#Let's create two new boolean columns\n",
    "case = case.withColumn(\"case_closed\", expr('case_closed == \"YES\"')).withColumn(\n",
    "        \"case_late\", expr('case_late == \"YES\"'))\n",
    "\n",
    "#Select just the two columns\n",
    "case.select(\"case_closed\", \"case_late\").show()"
   ]
  },
  {
   "cell_type": "code",
   "execution_count": 25,
   "id": "695d7b98-2abe-4d40-b48c-f22580d2f6f5",
   "metadata": {},
   "outputs": [
    {
     "name": "stderr",
     "output_type": "stream",
     "text": [
      "23/07/05 14:01:11 WARN TaskSetManager: Stage 18 contains a task of very large size (18868 KiB). The maximum recommended task size is 1000 KiB.\n",
      "[Stage 18:>                                                         (0 + 8) / 8]\r"
     ]
    },
    {
     "name": "stdout",
     "output_type": "stream",
     "text": [
      "+----------------+------+\n",
      "|council_district| count|\n",
      "+----------------+------+\n",
      "|               0|  3830|\n",
      "|               7| 72445|\n",
      "|               6| 74095|\n",
      "|               9| 40916|\n",
      "|               5|114609|\n",
      "|               1|119309|\n",
      "|              10| 62926|\n",
      "|               3|102706|\n",
      "|               8| 42345|\n",
      "|               2|114745|\n",
      "|               4| 93778|\n",
      "+----------------+------+\n",
      "\n"
     ]
    },
    {
     "name": "stderr",
     "output_type": "stream",
     "text": [
      "                                                                                \r"
     ]
    }
   ],
   "source": [
    "case.groupBy('council_district').count().show()"
   ]
  },
  {
   "cell_type": "code",
   "execution_count": 26,
   "id": "6924044e-3930-48cb-9a91-fe90660e5bf6",
   "metadata": {},
   "outputs": [],
   "source": [
    "case = case.withColumn('council_district', col('council_district').cast('string'))"
   ]
  },
  {
   "cell_type": "code",
   "execution_count": 27,
   "id": "58a9d46a-a283-4b7f-8fee-74c600d08a9c",
   "metadata": {},
   "outputs": [
    {
     "name": "stderr",
     "output_type": "stream",
     "text": [
      "23/07/05 14:01:23 WARN TaskSetManager: Stage 21 contains a task of very large size (18868 KiB). The maximum recommended task size is 1000 KiB.\n",
      "[Stage 21:>                                                         (0 + 1) / 1]\r"
     ]
    },
    {
     "name": "stdout",
     "output_type": "stream",
     "text": [
      "+----------------+----------------+-------------+\n",
      "|case_opened_date|case_closed_date|case_due_date|\n",
      "+----------------+----------------+-------------+\n",
      "|     1/1/18 0:42|    1/1/18 12:29| 9/26/20 0:42|\n",
      "|     1/1/18 0:46|     1/3/18 8:11|  1/5/18 8:30|\n",
      "|     1/1/18 0:48|     1/2/18 7:57|  1/5/18 8:30|\n",
      "|     1/1/18 1:29|     1/2/18 8:13| 1/17/18 8:30|\n",
      "|     1/1/18 1:34|    1/1/18 13:29|  1/1/18 4:34|\n",
      "+----------------+----------------+-------------+\n",
      "only showing top 5 rows\n",
      "\n"
     ]
    },
    {
     "name": "stderr",
     "output_type": "stream",
     "text": [
      "23/07/05 14:01:28 WARN PythonRunner: Detected deadlock while completing task 0.0 in stage 21 (TID 82): Attempting to kill Python Worker\n",
      "                                                                                \r"
     ]
    }
   ],
   "source": [
    "#Before\n",
    "case.select('case_opened_date', 'case_closed_date', 'case_due_date').show(5)"
   ]
  },
  {
   "cell_type": "code",
   "execution_count": 28,
   "id": "3c902333-c5df-4c22-b272-fa035e68c8e0",
   "metadata": {},
   "outputs": [
    {
     "name": "stderr",
     "output_type": "stream",
     "text": [
      "23/07/05 14:01:34 WARN TaskSetManager: Stage 22 contains a task of very large size (18868 KiB). The maximum recommended task size is 1000 KiB.\n",
      "[Stage 22:>                                                         (0 + 1) / 1]\r"
     ]
    },
    {
     "name": "stdout",
     "output_type": "stream",
     "text": [
      "+-------------------+-------------------+-------------------+\n",
      "|   case_opened_date|   case_closed_date|      case_due_date|\n",
      "+-------------------+-------------------+-------------------+\n",
      "|2018-01-01 00:42:00|2018-01-01 12:29:00|2020-09-26 00:42:00|\n",
      "|2018-01-01 00:46:00|2018-01-03 08:11:00|2018-01-05 08:30:00|\n",
      "|2018-01-01 00:48:00|2018-01-02 07:57:00|2018-01-05 08:30:00|\n",
      "|2018-01-01 01:29:00|2018-01-02 08:13:00|2018-01-17 08:30:00|\n",
      "|2018-01-01 01:34:00|2018-01-01 13:29:00|2018-01-01 04:34:00|\n",
      "+-------------------+-------------------+-------------------+\n",
      "only showing top 5 rows\n",
      "\n"
     ]
    },
    {
     "name": "stderr",
     "output_type": "stream",
     "text": [
      "23/07/05 14:01:38 WARN PythonRunner: Detected deadlock while completing task 0.0 in stage 22 (TID 83): Attempting to kill Python Worker\n",
      "                                                                                \r"
     ]
    }
   ],
   "source": [
    "#After\n",
    "\n",
    "fmt = \"M/d/yy H:mm\"\n",
    "\n",
    "case = (\n",
    "    case.withColumn(\"case_opened_date\", to_timestamp(\"case_opened_date\", fmt))\n",
    "    .withColumn(\"case_closed_date\", to_timestamp(\"case_closed_date\", fmt))\n",
    "    .withColumn(\"case_due_date\", to_timestamp(\"case_due_date\", fmt))\n",
    ")\n",
    "\n",
    "case.select(\"case_opened_date\", \"case_closed_date\", \"case_due_date\").show(5)"
   ]
  },
  {
   "cell_type": "code",
   "execution_count": 29,
   "id": "3c41188e-297a-4a2b-9242-3c1d204c963d",
   "metadata": {},
   "outputs": [
    {
     "name": "stderr",
     "output_type": "stream",
     "text": [
      "23/07/05 14:01:47 WARN TaskSetManager: Stage 23 contains a task of very large size (18868 KiB). The maximum recommended task size is 1000 KiB.\n",
      "[Stage 23:>                                                         (0 + 1) / 1]\r"
     ]
    },
    {
     "name": "stdout",
     "output_type": "stream",
     "text": [
      "+-------------------------------------+\n",
      "|                      request_address|\n",
      "+-------------------------------------+\n",
      "| 2315  el paso st, san antonio, 78207|\n",
      "|  2215  goliad rd, san antonio, 78223|\n",
      "|102  palfrey st w, san antonio, 78223|\n",
      "| 114  la garde st, san antonio, 78223|\n",
      "|734  clearview dr, san antonio, 78228|\n",
      "+-------------------------------------+\n",
      "only showing top 5 rows\n",
      "\n"
     ]
    },
    {
     "name": "stderr",
     "output_type": "stream",
     "text": [
      "23/07/05 14:01:51 WARN PythonRunner: Detected deadlock while completing task 0.0 in stage 23 (TID 84): Attempting to kill Python Worker\n",
      "                                                                                \r"
     ]
    }
   ],
   "source": [
    "#After\n",
    "case = case.withColumn('request_address', trim(lower(case.request_address)))\n",
    "\n",
    "case.select(\"request_address\").show(5, 50)"
   ]
  },
  {
   "cell_type": "code",
   "execution_count": 30,
   "id": "3f49d40d-98f8-47bd-bdd0-002cadf8ea31",
   "metadata": {},
   "outputs": [
    {
     "name": "stderr",
     "output_type": "stream",
     "text": [
      "23/07/05 14:01:55 WARN TaskSetManager: Stage 24 contains a task of very large size (18868 KiB). The maximum recommended task size is 1000 KiB.\n",
      "[Stage 24:>                                                         (0 + 1) / 1]\r"
     ]
    },
    {
     "name": "stdout",
     "output_type": "stream",
     "text": [
      "+-------------+--------------------+\n",
      "|num_days_late|      num_weeks_late|\n",
      "+-------------+--------------------+\n",
      "| -998.5087616|        -142.6441088|\n",
      "| -2.012604167|        -0.287514881|\n",
      "| -3.022337963|-0.43176256614285713|\n",
      "| -15.01148148| -2.1444973542857144|\n",
      "|  0.372164352|0.053166335999999995|\n",
      "+-------------+--------------------+\n",
      "only showing top 5 rows\n",
      "\n"
     ]
    },
    {
     "name": "stderr",
     "output_type": "stream",
     "text": [
      "23/07/05 14:01:59 WARN PythonRunner: Detected deadlock while completing task 0.0 in stage 24 (TID 85): Attempting to kill Python Worker\n",
      "                                                                                \r"
     ]
    }
   ],
   "source": [
    "case = case.withColumn('num_weeks_late', expr('num_days_late / 7'))\n",
    "\n",
    "case.select(\"num_days_late\", \"num_weeks_late\").show(5)"
   ]
  },
  {
   "cell_type": "code",
   "execution_count": 31,
   "id": "ee1973dd-0dc5-43d4-a09f-7ea856136169",
   "metadata": {},
   "outputs": [
    {
     "name": "stderr",
     "output_type": "stream",
     "text": [
      "23/07/05 14:02:03 WARN TaskSetManager: Stage 25 contains a task of very large size (18868 KiB). The maximum recommended task size is 1000 KiB.\n",
      "[Stage 25:>                                                         (0 + 1) / 1]\r"
     ]
    },
    {
     "name": "stdout",
     "output_type": "stream",
     "text": [
      "+----------------+\n",
      "|council_district|\n",
      "+----------------+\n",
      "|             005|\n",
      "|             003|\n",
      "|             003|\n",
      "|             003|\n",
      "|             007|\n",
      "+----------------+\n",
      "only showing top 5 rows\n",
      "\n"
     ]
    },
    {
     "name": "stderr",
     "output_type": "stream",
     "text": [
      "23/07/05 14:02:07 WARN PythonRunner: Detected deadlock while completing task 0.0 in stage 25 (TID 86): Attempting to kill Python Worker\n",
      "                                                                                \r"
     ]
    }
   ],
   "source": [
    "case = case.withColumn('council_district', col('council_district').cast('int'))\n",
    "\n",
    "# '%03d' means at least 3 digits, pad with 0s\n",
    "#\n",
    "# In order to use the format_string function the way we are, we'll need to\n",
    "# convert council_district back to an integer temporarily, but the final output\n",
    "# will be a string.\n",
    "case = case.withColumn('council_district',\n",
    "                  format_string('%03d', col('council_district').cast('int')))\n",
    "\n",
    "case.select(\"council_district\").show(5)"
   ]
  },
  {
   "cell_type": "code",
   "execution_count": 32,
   "id": "b6da3b55-e7d4-4eae-95d1-6cb02e7e2bae",
   "metadata": {},
   "outputs": [],
   "source": [
    "case = (\n",
    "# calculates the number of days between the current timestamp & case_opened_date\n",
    "    case.withColumn(\n",
    "        'case_age', datediff(current_timestamp(), 'case_opened_date')\n",
    "    )\n",
    "# Calculates the number of days between the case_closed_date & case_opened_date\n",
    "    .withColumn(\n",
    "        'days_to_closed', datediff('case_closed_date', 'case_opened_date')\n",
    "    )\n",
    "# since case_closed is boolean, we can check if it's T/F;\n",
    "#If the case is not closed, it takes the value from the \"case_age\" column\n",
    "#Otherwise, it takes the value from the \"days_to_closed\" column    \n",
    "    .withColumn(\n",
    "        'case_lifetime', \n",
    "            when(expr('! case_closed'), col('case_age')).otherwise(col('days_to_closed'))\n",
    "\n",
    "    )\n",
    ")"
   ]
  },
  {
   "cell_type": "code",
   "execution_count": 34,
   "id": "2c73010d-3a86-4e6c-a689-567ad21409f5",
   "metadata": {},
   "outputs": [
    {
     "name": "stderr",
     "output_type": "stream",
     "text": [
      "23/07/05 14:02:52 WARN TaskSetManager: Stage 26 contains a task of very large size (18868 KiB). The maximum recommended task size is 1000 KiB.\n",
      "[Stage 26:>                                                         (0 + 1) / 1]\r"
     ]
    },
    {
     "name": "stdout",
     "output_type": "stream",
     "text": [
      "-RECORD 0------------------------------------\n",
      " case_id              | 1014127332           \n",
      " case_opened_date     | 2018-01-01 00:42:00  \n",
      " case_closed_date     | 2018-01-01 12:29:00  \n",
      " case_due_date        | 2020-09-26 00:42:00  \n",
      " case_late            | false                \n",
      " num_days_late        | -998.5087616         \n",
      " case_closed          | true                 \n",
      " dept_division        | Field Operations     \n",
      " service_request_type | Stray Animal         \n",
      " case_days            | 999.0                \n",
      " case_status          | Closed               \n",
      " source_id            | svcCRMLS             \n",
      " request_address      | 2315  el paso st,... \n",
      " council_district     | 005                  \n",
      " num_weeks_late       | -142.6441088         \n",
      " case_age             | 2011                 \n",
      " days_to_closed       | 0                    \n",
      " case_lifetime        | 0                    \n",
      "-RECORD 1------------------------------------\n",
      " case_id              | 1014127333           \n",
      " case_opened_date     | 2018-01-01 00:46:00  \n",
      " case_closed_date     | 2018-01-03 08:11:00  \n",
      " case_due_date        | 2018-01-05 08:30:00  \n",
      " case_late            | false                \n",
      " num_days_late        | -2.012604167         \n",
      " case_closed          | true                 \n",
      " dept_division        | Storm Water          \n",
      " service_request_type | Removal Of Obstru... \n",
      " case_days            | 4.322222222          \n",
      " case_status          | Closed               \n",
      " source_id            | svcCRMSS             \n",
      " request_address      | 2215  goliad rd, ... \n",
      " council_district     | 003                  \n",
      " num_weeks_late       | -0.287514881         \n",
      " case_age             | 2011                 \n",
      " days_to_closed       | 2                    \n",
      " case_lifetime        | 2                    \n",
      "only showing top 2 rows\n",
      "\n"
     ]
    },
    {
     "name": "stderr",
     "output_type": "stream",
     "text": [
      "23/07/05 14:02:56 WARN PythonRunner: Detected deadlock while completing task 0.0 in stage 26 (TID 87): Attempting to kill Python Worker\n",
      "                                                                                \r"
     ]
    }
   ],
   "source": [
    "case.show(2, vertical=True)"
   ]
  },
  {
   "cell_type": "markdown",
   "id": "f71af369-c01c-465d-98cf-8e3c0e06ae4b",
   "metadata": {},
   "source": [
    "---\n",
    "### Dept"
   ]
  },
  {
   "cell_type": "code",
   "execution_count": 12,
   "id": "c0a0142b-0eda-47c5-99fb-ee82d454fa17",
   "metadata": {},
   "outputs": [
    {
     "name": "stdout",
     "output_type": "stream",
     "text": [
      "+--------------------+--------------------+----------------------+-------------------+\n",
      "|       dept_division|           dept_name|standardized_dept_name|dept_subject_to_SLA|\n",
      "+--------------------+--------------------+----------------------+-------------------+\n",
      "|     311 Call Center|    Customer Service|      Customer Service|                YES|\n",
      "|               Brush|Solid Waste Manag...|           Solid Waste|                YES|\n",
      "|     Clean and Green|Parks and Recreation|    Parks & Recreation|                YES|\n",
      "|Clean and Green N...|Parks and Recreation|    Parks & Recreation|                YES|\n",
      "+--------------------+--------------------+----------------------+-------------------+\n",
      "only showing top 4 rows\n",
      "\n"
     ]
    }
   ],
   "source": [
    "query = \"\"\"SELECT * FROM dept\"\"\"\n",
    "dept = pd.read_sql(query, url)\n",
    "dept = spark.createDataFrame(dept)\n",
    "dept.show(4)"
   ]
  },
  {
   "cell_type": "code",
   "execution_count": 15,
   "id": "809f3c80-b3a8-4dce-af5a-c62e8e089652",
   "metadata": {},
   "outputs": [],
   "source": [
    "# dept.write.json('dept_json', mode='overwrite')\n",
    "# dept.write.csv('dept_csv', mode='overwrite')"
   ]
  },
  {
   "cell_type": "code",
   "execution_count": 18,
   "id": "75500990-6679-436e-a3e2-9789f891414a",
   "metadata": {},
   "outputs": [
    {
     "data": {
      "text/plain": [
       "StructType([StructField('dept_division', StringType(), True), StructField('dept_name', StringType(), True), StructField('standardized_dept_name', StringType(), True), StructField('dept_subject_to_SLA', StringType(), True)])"
      ]
     },
     "execution_count": 18,
     "metadata": {},
     "output_type": "execute_result"
    }
   ],
   "source": [
    "dept.schema"
   ]
  },
  {
   "cell_type": "markdown",
   "id": "103aad30-8141-45a1-a98e-ed9f28460926",
   "metadata": {},
   "source": [
    "---\n",
    "### Source"
   ]
  },
  {
   "cell_type": "code",
   "execution_count": 13,
   "id": "bf193dc7-7ef9-4333-b759-e4e495a6b2f0",
   "metadata": {},
   "outputs": [
    {
     "name": "stdout",
     "output_type": "stream",
     "text": [
      "+-----+---------+----------------+\n",
      "|index|source_id| source_username|\n",
      "+-----+---------+----------------+\n",
      "|    0|   100137|Merlene Blodgett|\n",
      "|    1|   103582|     Carmen Cura|\n",
      "|    2|   106463| Richard Sanchez|\n",
      "|    3|   119403|  Betty De Hoyos|\n",
      "+-----+---------+----------------+\n",
      "only showing top 4 rows\n",
      "\n"
     ]
    }
   ],
   "source": [
    "query = \"\"\"SELECT * FROM source\"\"\"\n",
    "source = pd.read_sql(query, url)\n",
    "source = spark.createDataFrame(source)\n",
    "source.show(4)"
   ]
  },
  {
   "cell_type": "code",
   "execution_count": 16,
   "id": "e2cc4b90-f14c-4db3-a805-44f60f359812",
   "metadata": {},
   "outputs": [],
   "source": [
    "# source.write.json('source_json', mode='overwrite')\n",
    "# source.write.csv('source_csv', mode='overwrite')"
   ]
  },
  {
   "cell_type": "code",
   "execution_count": 19,
   "id": "b7287315-8a65-4f20-ac42-65d7aa3dab2c",
   "metadata": {},
   "outputs": [
    {
     "data": {
      "text/plain": [
       "StructType([StructField('index', LongType(), True), StructField('source_id', StringType(), True), StructField('source_username', StringType(), True)])"
      ]
     },
     "execution_count": 19,
     "metadata": {},
     "output_type": "execute_result"
    }
   ],
   "source": [
    "source.schema"
   ]
  },
  {
   "cell_type": "code",
   "execution_count": null,
   "id": "b27a6d9d-5931-4c43-8d06-261d6c188054",
   "metadata": {},
   "outputs": [],
   "source": []
  },
  {
   "cell_type": "code",
   "execution_count": null,
   "id": "27599f78-d4ca-4ea9-bd2e-d18948d8629a",
   "metadata": {},
   "outputs": [],
   "source": []
  },
  {
   "cell_type": "code",
   "execution_count": null,
   "id": "25027277-eae3-4341-bd7b-4bc102377265",
   "metadata": {},
   "outputs": [],
   "source": []
  },
  {
   "cell_type": "code",
   "execution_count": null,
   "id": "37800708-d385-40e9-ae19-774ef05be550",
   "metadata": {},
   "outputs": [],
   "source": []
  },
  {
   "cell_type": "code",
   "execution_count": null,
   "id": "3a525752-70cd-45a2-a105-bcfb8d4e6009",
   "metadata": {},
   "outputs": [],
   "source": []
  },
  {
   "cell_type": "code",
   "execution_count": null,
   "id": "1eb5803a-68fe-4417-be88-2419f558acdd",
   "metadata": {},
   "outputs": [],
   "source": []
  },
  {
   "cell_type": "code",
   "execution_count": null,
   "id": "f92f8596-b94d-440d-9e15-b93f33215a37",
   "metadata": {},
   "outputs": [],
   "source": []
  },
  {
   "cell_type": "code",
   "execution_count": null,
   "id": "b8cecec2-a368-4116-81ed-28b0763ef86b",
   "metadata": {},
   "outputs": [],
   "source": []
  },
  {
   "cell_type": "code",
   "execution_count": null,
   "id": "c72932ad-a6e8-4cbf-b31e-ae7e360e9ca2",
   "metadata": {},
   "outputs": [],
   "source": []
  },
  {
   "cell_type": "code",
   "execution_count": null,
   "id": "1e62035d-a0bf-410b-95c4-e1759b4d65d8",
   "metadata": {},
   "outputs": [],
   "source": []
  },
  {
   "cell_type": "code",
   "execution_count": null,
   "id": "8d6ebcdf-cbb0-46b8-beb8-5adbbe4fba86",
   "metadata": {},
   "outputs": [],
   "source": []
  }
 ],
 "metadata": {
  "kernelspec": {
   "display_name": "Python 3 (ipykernel)",
   "language": "python",
   "name": "python3"
  },
  "language_info": {
   "codemirror_mode": {
    "name": "ipython",
    "version": 3
   },
   "file_extension": ".py",
   "mimetype": "text/x-python",
   "name": "python",
   "nbconvert_exporter": "python",
   "pygments_lexer": "ipython3",
   "version": "3.9.13"
  }
 },
 "nbformat": 4,
 "nbformat_minor": 5
}
